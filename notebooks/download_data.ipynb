{
 "cells": [
  {
   "cell_type": "markdown",
   "metadata": {},
   "source": [
    "# Purpose\n",
    "Download weather data    \n",
    "Download aggregate hourly data for stations (incoming /outgoing)"
   ]
  },
  {
   "cell_type": "code",
   "execution_count": 1,
   "metadata": {
    "ExecuteTime": {
     "end_time": "2017-10-11T21:06:22.658197Z",
     "start_time": "2017-10-11T17:06:22.081265-04:00"
    },
    "collapsed": true
   },
   "outputs": [],
   "source": [
    "import pandas as pd\n",
    "import google.auth\n"
   ]
  },
  {
   "cell_type": "code",
   "execution_count": 2,
   "metadata": {
    "ExecuteTime": {
     "end_time": "2017-10-11T21:06:24.660312Z",
     "start_time": "2017-10-11T17:06:23.400516-04:00"
    },
    "collapsed": true
   },
   "outputs": [],
   "source": [
    "_, project_id = google.auth.default()"
   ]
  },
  {
   "cell_type": "markdown",
   "metadata": {},
   "source": [
    "# Trips Data\n",
    "Return hourly incoming and outgoing data"
   ]
  },
  {
   "cell_type": "code",
   "execution_count": 11,
   "metadata": {
    "ExecuteTime": {
     "end_time": "2017-10-10T05:43:56.782632Z",
     "start_time": "2017-10-10T01:43:56.775129-04:00"
    },
    "collapsed": true
   },
   "outputs": [],
   "source": [
    "trips_query = \"\"\"\n",
    "WITH\n",
    "  departing AS (\n",
    "      SELECT\n",
    "        DATE(starttime) date,\n",
    "        EXTRACT(HOUR\n",
    "        FROM\n",
    "          starttime) hour,\n",
    "        start_station_id station_id,\n",
    "        COUNT(*) AS departing_bikes\n",
    "      FROM\n",
    "        `np-training.ableto.citibike`\n",
    "      GROUP BY\n",
    "        date,\n",
    "        hour,\n",
    "        station_id\n",
    "    ),\n",
    "  \n",
    "  incoming AS(\n",
    "      SELECT\n",
    "        DATE(stoptime) date,\n",
    "        EXTRACT(HOUR\n",
    "        FROM\n",
    "          stoptime) hour,\n",
    "        end_station_id station_id,\n",
    "        COUNT(*) AS incoming_bikes\n",
    "      FROM\n",
    "        `np-training.ableto.citibike`\n",
    "      GROUP BY\n",
    "        date,\n",
    "        hour,\n",
    "        station_id \n",
    "    )\n",
    "SELECT\n",
    "  COALESCE(d.date,\n",
    "    i.date) AS date,\n",
    "  COALESCE(d.hour,\n",
    "    i.hour) AS hour,\n",
    "  COALESCE(d.station_id,\n",
    "    i.station_id) AS station_id,\n",
    "  IFNULL(d.departing_bikes,\n",
    "    0) AS departing_bikes,\n",
    "  IFNULL(i.incoming_bikes,\n",
    "    0) AS incoming_bikes\n",
    "FROM\n",
    "  departing d\n",
    "FULL OUTER JOIN\n",
    "  incoming i\n",
    "ON\n",
    "  d.date = i.date\n",
    "  AND d.hour = i.hour\n",
    "  AND d.station_id = i.station_id\n",
    "  \n",
    "\"\"\""
   ]
  },
  {
   "cell_type": "code",
   "execution_count": 12,
   "metadata": {
    "ExecuteTime": {
     "end_time": "2017-10-10T05:55:35.423608Z",
     "start_time": "2017-10-10T01:43:57.902437-04:00"
    }
   },
   "outputs": [
    {
     "name": "stdout",
     "output_type": "stream",
     "text": [
      "Requesting query... ok.\n",
      "Job ID: job_rSLeaSuKlGKG91ey8WwQDPFTQjJY\n",
      "Query running...\n",
      "Query done.\n",
      "Cache hit.\n",
      "\n",
      "Retrieving results...\n",
      "  Got page: 2; 2% done. Elapsed 11.51 s.\n",
      "  Got page: 3; 3% done. Elapsed 16.13 s.\n",
      "  Got page: 4; 4% done. Elapsed 20.59 s.\n",
      "  Got page: 5; 5% done. Elapsed 26.18 s.\n",
      "  Got page: 6; 6% done. Elapsed 30.97 s.\n",
      "  Got page: 7; 7% done. Elapsed 36.71 s.\n",
      "  Got page: 8; 8% done. Elapsed 41.31 s.\n",
      "  Got page: 9; 8% done. Elapsed 47.64 s.\n",
      "  Got page: 10; 9% done. Elapsed 52.4 s.\n",
      "  Got page: 11; 10% done. Elapsed 57.21 s.\n",
      "  Got page: 12; 11% done. Elapsed 62.34 s.\n",
      "  Got page: 13; 12% done. Elapsed 67.46 s.\n",
      "  Got page: 14; 13% done. Elapsed 74.0 s.\n",
      "  Got page: 15; 14% done. Elapsed 79.8 s.\n",
      "  Got page: 16; 15% done. Elapsed 84.74 s.\n",
      "  Got page: 17; 16% done. Elapsed 89.93 s.\n",
      "  Got page: 18; 17% done. Elapsed 95.45 s.\n",
      "  Got page: 19; 18% done. Elapsed 101.89 s.\n",
      "  Got page: 20; 19% done. Elapsed 108.81 s.\n",
      "  Got page: 21; 20% done. Elapsed 113.55 s.\n",
      "  Got page: 22; 21% done. Elapsed 118.64 s.\n",
      "  Got page: 23; 22% done. Elapsed 125.09 s.\n",
      "  Got page: 24; 23% done. Elapsed 129.91 s.\n",
      "  Got page: 25; 24% done. Elapsed 135.62 s.\n",
      "  Got page: 26; 24% done. Elapsed 140.09 s.\n",
      "  Got page: 27; 25% done. Elapsed 145.39 s.\n",
      "  Got page: 28; 26% done. Elapsed 150.8 s.\n",
      "  Got page: 29; 27% done. Elapsed 157.19 s.\n",
      "  Got page: 30; 28% done. Elapsed 162.12 s.\n",
      "  Got page: 31; 29% done. Elapsed 167.92 s.\n",
      "  Got page: 32; 30% done. Elapsed 174.38 s.\n",
      "  Got page: 33; 31% done. Elapsed 180.88 s.\n",
      "  Got page: 34; 32% done. Elapsed 186.14 s.\n",
      "  Got page: 35; 33% done. Elapsed 190.37 s.\n",
      "  Got page: 36; 34% done. Elapsed 195.05 s.\n",
      "  Got page: 37; 35% done. Elapsed 202.47 s.\n",
      "  Got page: 38; 36% done. Elapsed 207.69 s.\n",
      "  Got page: 39; 37% done. Elapsed 212.45 s.\n",
      "  Got page: 40; 38% done. Elapsed 216.89 s.\n",
      "  Got page: 41; 39% done. Elapsed 223.13 s.\n",
      "  Got page: 42; 40% done. Elapsed 228.42 s.\n",
      "  Got page: 43; 40% done. Elapsed 233.37 s.\n",
      "  Got page: 44; 41% done. Elapsed 239.09 s.\n",
      "  Got page: 45; 42% done. Elapsed 243.66 s.\n",
      "  Got page: 46; 43% done. Elapsed 251.95 s.\n",
      "  Got page: 47; 44% done. Elapsed 256.98 s.\n",
      "  Got page: 48; 45% done. Elapsed 261.96 s.\n",
      "  Got page: 49; 46% done. Elapsed 267.23 s.\n",
      "  Got page: 50; 47% done. Elapsed 272.77 s.\n",
      "  Got page: 51; 48% done. Elapsed 277.68 s.\n",
      "  Got page: 52; 49% done. Elapsed 282.31 s.\n",
      "  Got page: 53; 50% done. Elapsed 286.99 s.\n",
      "  Got page: 54; 51% done. Elapsed 292.46 s.\n",
      "  Got page: 55; 52% done. Elapsed 297.81 s.\n",
      "  Got page: 56; 53% done. Elapsed 302.73 s.\n",
      "  Got page: 57; 54% done. Elapsed 308.12 s.\n",
      "  Got page: 58; 55% done. Elapsed 315.72 s.\n",
      "  Got page: 59; 56% done. Elapsed 321.22 s.\n",
      "  Got page: 60; 56% done. Elapsed 326.44 s.\n",
      "  Got page: 61; 57% done. Elapsed 331.37 s.\n",
      "  Got page: 62; 58% done. Elapsed 336.47 s.\n",
      "  Got page: 63; 59% done. Elapsed 341.17 s.\n",
      "  Got page: 64; 60% done. Elapsed 345.32 s.\n",
      "  Got page: 65; 61% done. Elapsed 350.59 s.\n",
      "  Got page: 66; 62% done. Elapsed 355.98 s.\n",
      "  Got page: 67; 63% done. Elapsed 361.55 s.\n",
      "  Got page: 68; 64% done. Elapsed 367.62 s.\n",
      "  Got page: 69; 65% done. Elapsed 372.24 s.\n",
      "  Got page: 70; 66% done. Elapsed 378.36 s.\n",
      "  Got page: 71; 67% done. Elapsed 383.49 s.\n",
      "  Got page: 72; 68% done. Elapsed 394.31 s.\n",
      "  Got page: 73; 69% done. Elapsed 399.35 s.\n",
      "  Got page: 74; 70% done. Elapsed 404.31 s.\n",
      "  Got page: 75; 71% done. Elapsed 409.82 s.\n",
      "  Got page: 76; 72% done. Elapsed 415.61 s.\n",
      "  Got page: 77; 72% done. Elapsed 420.31 s.\n",
      "  Got page: 78; 73% done. Elapsed 425.52 s.\n",
      "  Got page: 79; 74% done. Elapsed 430.76 s.\n",
      "  Got page: 80; 75% done. Elapsed 435.7 s.\n",
      "  Got page: 81; 76% done. Elapsed 440.37 s.\n",
      "  Got page: 82; 77% done. Elapsed 445.82 s.\n",
      "  Got page: 83; 78% done. Elapsed 451.76 s.\n",
      "  Got page: 84; 79% done. Elapsed 457.52 s.\n",
      "  Got page: 85; 80% done. Elapsed 463.23 s.\n",
      "  Got page: 86; 81% done. Elapsed 469.02 s.\n",
      "  Got page: 87; 82% done. Elapsed 473.95 s.\n",
      "  Got page: 88; 83% done. Elapsed 478.69 s.\n",
      "  Got page: 89; 84% done. Elapsed 484.3 s.\n",
      "  Got page: 90; 85% done. Elapsed 510.44 s.\n",
      "  Got page: 91; 86% done. Elapsed 517.09 s.\n",
      "  Got page: 92; 87% done. Elapsed 522.23 s.\n",
      "  Got page: 93; 88% done. Elapsed 526.92 s.\n",
      "  Got page: 94; 88% done. Elapsed 532.07 s.\n",
      "  Got page: 95; 89% done. Elapsed 537.64 s.\n",
      "  Got page: 96; 90% done. Elapsed 543.49 s.\n",
      "  Got page: 97; 91% done. Elapsed 547.89 s.\n",
      "  Got page: 98; 92% done. Elapsed 553.61 s.\n",
      "  Got page: 99; 93% done. Elapsed 559.3 s.\n",
      "  Got page: 100; 94% done. Elapsed 564.06 s.\n",
      "  Got page: 101; 95% done. Elapsed 569.66 s.\n",
      "  Got page: 102; 96% done. Elapsed 574.14 s.\n",
      "  Got page: 103; 97% done. Elapsed 578.96 s.\n",
      "  Got page: 104; 98% done. Elapsed 584.69 s.\n",
      "  Got page: 105; 99% done. Elapsed 590.73 s.\n",
      "  Got page: 106; 100% done. Elapsed 596.14 s.\n",
      "  Got page: 107; 100% done. Elapsed 597.96 s.\n",
      "Got 7438686 rows.\n",
      "\n",
      "Total time taken 695.98 s.\n",
      "Finished at 2017-10-10 01:55:34.\n"
     ]
    }
   ],
   "source": [
    "trips_df = pd.read_gbq(trips_query, project_id=project_id,reauth=True,dialect='standard')"
   ]
  },
  {
   "cell_type": "code",
   "execution_count": 13,
   "metadata": {
    "ExecuteTime": {
     "end_time": "2017-10-10T05:58:08.692517Z",
     "start_time": "2017-10-10T01:55:35.429878-04:00"
    },
    "collapsed": true
   },
   "outputs": [],
   "source": [
    "trips_df.to_csv('trips.csv.gz',index=False, compression='gzip')"
   ]
  },
  {
   "cell_type": "code",
   "execution_count": null,
   "metadata": {
    "ExecuteTime": {
     "end_time": "2017-10-10T05:42:56.255972Z",
     "start_time": "2017-10-10T05:32:50.581Z"
    },
    "collapsed": true
   },
   "outputs": [],
   "source": [
    "!ls -lah"
   ]
  },
  {
   "cell_type": "markdown",
   "metadata": {},
   "source": [
    "# Station Info\n",
    "Contains current capacity and info"
   ]
  },
  {
   "cell_type": "code",
   "execution_count": 4,
   "metadata": {
    "ExecuteTime": {
     "end_time": "2017-10-10T05:43:28.176856Z",
     "start_time": "2017-10-10T01:43:28.174143-04:00"
    },
    "collapsed": true
   },
   "outputs": [],
   "source": [
    "station_info_query = \"\"\"\n",
    "\n",
    "SELECT\n",
    "  *\n",
    "  FROM `bigquery-public-data.new_york.citibike_stations`\n",
    "\"\"\""
   ]
  },
  {
   "cell_type": "code",
   "execution_count": 5,
   "metadata": {
    "ExecuteTime": {
     "end_time": "2017-10-10T05:43:33.892791Z",
     "start_time": "2017-10-10T01:43:28.764797-04:00"
    },
    "collapsed": true
   },
   "outputs": [],
   "source": [
    "stations_df = pd.read_gbq(station_info_query, project_id=project_id,dialect='standard',verbose=False )"
   ]
  },
  {
   "cell_type": "code",
   "execution_count": 6,
   "metadata": {
    "ExecuteTime": {
     "end_time": "2017-10-10T05:43:34.890298Z",
     "start_time": "2017-10-10T01:43:34.858542-04:00"
    },
    "collapsed": true
   },
   "outputs": [],
   "source": [
    "stations_df.to_csv('stations.csv.gz',index=False, compression='gzip')"
   ]
  },
  {
   "cell_type": "code",
   "execution_count": null,
   "metadata": {
    "collapsed": true
   },
   "outputs": [],
   "source": []
  },
  {
   "cell_type": "markdown",
   "metadata": {
    "collapsed": true
   },
   "source": [
    "# Weather Data"
   ]
  },
  {
   "cell_type": "code",
   "execution_count": 7,
   "metadata": {
    "ExecuteTime": {
     "end_time": "2017-10-10T05:43:36.581381Z",
     "start_time": "2017-10-10T01:43:36.578715-04:00"
    },
    "collapsed": true
   },
   "outputs": [],
   "source": [
    "# NOAA Station\n",
    "# According to  http://forecast.weather.gov/stations.php?foo=0 , zip code is 10018\n",
    "#http://forecast.weather.gov/MapClick.php?CityName=New+York&state=NY&site=OKX&lat=40.7198&lon=-73.993\n",
    "# New York City, Central Park (KNYC)\n",
    "# 725030 = La Guardia"
   ]
  },
  {
   "cell_type": "code",
   "execution_count": 5,
   "metadata": {
    "ExecuteTime": {
     "end_time": "2017-10-11T22:49:46.973110Z",
     "start_time": "2017-10-11T18:49:46.969138-04:00"
    },
    "collapsed": true
   },
   "outputs": [],
   "source": [
    "weather_query = \"\"\"\n",
    "\n",
    "SELECT\n",
    "  stn, wban, DATE(CAST (year as INT64) , Cast(mo as INT64) , CAST(da as INT64 )) as date, temp, count_temp, prcp\n",
    "      , fog as is_foggy\n",
    "      , rain_drizzle as is_raining\n",
    "      , snow_ice_pellets as is_snowing\n",
    "      \n",
    "FROM\n",
    "  `bigquery-public-data.noaa_gsod.gsod20*`\n",
    "WHERE\n",
    "  stn = '725030' \n",
    "AND _TABLE_SUFFIX BETWEEN '15'\n",
    "  AND '17'\n",
    "\n",
    "\n",
    "\n",
    "\"\"\""
   ]
  },
  {
   "cell_type": "code",
   "execution_count": 6,
   "metadata": {
    "ExecuteTime": {
     "end_time": "2017-10-11T22:49:52.542109Z",
     "start_time": "2017-10-11T18:49:48.228627-04:00"
    },
    "collapsed": true
   },
   "outputs": [],
   "source": [
    "weather_df = pd.read_gbq(weather_query, project_id=project_id,dialect='standard',verbose=False )"
   ]
  },
  {
   "cell_type": "code",
   "execution_count": 7,
   "metadata": {
    "ExecuteTime": {
     "end_time": "2017-10-11T22:49:54.288421Z",
     "start_time": "2017-10-11T18:49:54.267718-04:00"
    },
    "collapsed": true
   },
   "outputs": [],
   "source": [
    "weather_df.to_csv('weather.csv.gz',compression='gzip',index=False)"
   ]
  },
  {
   "cell_type": "code",
   "execution_count": null,
   "metadata": {
    "collapsed": true
   },
   "outputs": [],
   "source": []
  },
  {
   "cell_type": "code",
   "execution_count": null,
   "metadata": {
    "collapsed": true
   },
   "outputs": [],
   "source": []
  }
 ],
 "metadata": {
  "kernelspec": {
   "display_name": "Python [conda env:py36]",
   "language": "python",
   "name": "conda-env-py36-py"
  },
  "language_info": {
   "codemirror_mode": {
    "name": "ipython",
    "version": 3
   },
   "file_extension": ".py",
   "mimetype": "text/x-python",
   "name": "python",
   "nbconvert_exporter": "python",
   "pygments_lexer": "ipython3",
   "version": "3.6.1"
  }
 },
 "nbformat": 4,
 "nbformat_minor": 2
}
