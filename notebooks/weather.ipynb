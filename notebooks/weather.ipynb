{
 "cells": [
  {
   "cell_type": "markdown",
   "metadata": {},
   "source": [
    "# Purpose\n",
    "\n",
    "Explore Weather Underground to get current weather data"
   ]
  },
  {
   "cell_type": "code",
   "execution_count": 2,
   "metadata": {
    "ExecuteTime": {
     "end_time": "2017-10-11T20:34:40.337034Z",
     "start_time": "2017-10-11T16:34:40.334410-04:00"
    },
    "collapsed": true
   },
   "outputs": [],
   "source": [
    "import requests as r"
   ]
  },
  {
   "cell_type": "code",
   "execution_count": 11,
   "metadata": {
    "ExecuteTime": {
     "end_time": "2017-10-11T20:50:40.632673Z",
     "start_time": "2017-10-11T16:50:40.339912-04:00"
    },
    "collapsed": true
   },
   "outputs": [],
   "source": [
    "res = r.get(\"http://api.wunderground.com/api/7aace0916fed8b21/conditions/q/NY/NEW_YORK.json\")"
   ]
  },
  {
   "cell_type": "code",
   "execution_count": 12,
   "metadata": {
    "ExecuteTime": {
     "end_time": "2017-10-11T20:50:43.251681Z",
     "start_time": "2017-10-11T16:50:43.246107-04:00"
    }
   },
   "outputs": [
    {
     "data": {
      "text/plain": [
       "{'current_observation': {'UV': '1',\n",
       "  'dewpoint_c': 16,\n",
       "  'dewpoint_f': 61,\n",
       "  'dewpoint_string': '61 F (16 C)',\n",
       "  'display_location': {'city': 'New York',\n",
       "   'country': 'US',\n",
       "   'country_iso3166': 'US',\n",
       "   'elevation': '11.0',\n",
       "   'full': 'New York, NY',\n",
       "   'latitude': '40.75000000',\n",
       "   'longitude': '-74.00000000',\n",
       "   'magic': '1',\n",
       "   'state': 'NY',\n",
       "   'state_name': 'New York',\n",
       "   'wmo': '99999',\n",
       "   'zip': '10001'},\n",
       "  'estimated': {},\n",
       "  'feelslike_c': '22.2',\n",
       "  'feelslike_f': '71.9',\n",
       "  'feelslike_string': '71.9 F (22.2 C)',\n",
       "  'forecast_url': 'http://www.wunderground.com/US/NY/New_York.html',\n",
       "  'heat_index_c': 'NA',\n",
       "  'heat_index_f': 'NA',\n",
       "  'heat_index_string': 'NA',\n",
       "  'history_url': 'http://www.wunderground.com/weatherstation/WXDailyHistory.asp?ID=KNYNEWYO639',\n",
       "  'icon': 'mostlycloudy',\n",
       "  'icon_url': 'http://icons.wxug.com/i/c/k/mostlycloudy.gif',\n",
       "  'image': {'link': 'http://www.wunderground.com',\n",
       "   'title': 'Weather Underground',\n",
       "   'url': 'http://icons.wxug.com/graphics/wu2/logo_130x80.png'},\n",
       "  'local_epoch': '1507755041',\n",
       "  'local_time_rfc822': 'Wed, 11 Oct 2017 16:50:41 -0400',\n",
       "  'local_tz_long': 'America/New_York',\n",
       "  'local_tz_offset': '-0400',\n",
       "  'local_tz_short': 'EDT',\n",
       "  'nowcast': '',\n",
       "  'ob_url': 'http://www.wunderground.com/cgi-bin/findweather/getForecast?query=40.754864,-74.007156',\n",
       "  'observation_epoch': '1507755034',\n",
       "  'observation_location': {'city': 'Roof of a 1 story trailer, New York',\n",
       "   'country': 'US',\n",
       "   'country_iso3166': 'US',\n",
       "   'elevation': '0 ft',\n",
       "   'full': 'Roof of a 1 story trailer, New York, New York',\n",
       "   'latitude': '40.754864',\n",
       "   'longitude': '-74.007156',\n",
       "   'state': 'New York'},\n",
       "  'observation_time': 'Last Updated on October 11, 4:50 PM EDT',\n",
       "  'observation_time_rfc822': 'Wed, 11 Oct 2017 16:50:34 -0400',\n",
       "  'precip_1hr_in': '0.00',\n",
       "  'precip_1hr_metric': ' 0',\n",
       "  'precip_1hr_string': '0.00 in ( 0 mm)',\n",
       "  'precip_today_in': '0.00',\n",
       "  'precip_today_metric': '0',\n",
       "  'precip_today_string': '0.00 in (0 mm)',\n",
       "  'pressure_in': '30.08',\n",
       "  'pressure_mb': '1019',\n",
       "  'pressure_trend': '0',\n",
       "  'relative_humidity': '69%',\n",
       "  'solarradiation': '--',\n",
       "  'station_id': 'KNYNEWYO639',\n",
       "  'temp_c': 22.2,\n",
       "  'temp_f': 71.9,\n",
       "  'temperature_string': '71.9 F (22.2 C)',\n",
       "  'visibility_km': '16.1',\n",
       "  'visibility_mi': '10.0',\n",
       "  'weather': 'Mostly Cloudy',\n",
       "  'wind_degrees': 225,\n",
       "  'wind_dir': 'SW',\n",
       "  'wind_gust_kph': '17.7',\n",
       "  'wind_gust_mph': '11.0',\n",
       "  'wind_kph': 12.1,\n",
       "  'wind_mph': 7.5,\n",
       "  'wind_string': 'From the SW at 7.5 MPH Gusting to 11.0 MPH',\n",
       "  'windchill_c': 'NA',\n",
       "  'windchill_f': 'NA',\n",
       "  'windchill_string': 'NA'},\n",
       " 'response': {'features': {'conditions': 1},\n",
       "  'termsofService': 'http://www.wunderground.com/weather/api/d/terms.html',\n",
       "  'version': '0.1'}}"
      ]
     },
     "execution_count": 12,
     "metadata": {},
     "output_type": "execute_result"
    }
   ],
   "source": [
    "res.json()"
   ]
  },
  {
   "cell_type": "markdown",
   "metadata": {},
   "source": [
    "# Parse Payload"
   ]
  },
  {
   "cell_type": "code",
   "execution_count": 17,
   "metadata": {
    "ExecuteTime": {
     "end_time": "2017-10-11T20:58:31.864175Z",
     "start_time": "2017-10-11T16:58:31.860187-04:00"
    }
   },
   "outputs": [
    {
     "data": {
      "text/plain": [
       "'Mostly Cloudy'"
      ]
     },
     "execution_count": 17,
     "metadata": {},
     "output_type": "execute_result"
    }
   ],
   "source": [
    "res.json()['current_observation']['weather']"
   ]
  },
  {
   "cell_type": "code",
   "execution_count": 28,
   "metadata": {
    "ExecuteTime": {
     "end_time": "2017-10-11T21:10:48.426173Z",
     "start_time": "2017-10-11T17:10:48.421491-04:00"
    },
    "collapsed": true
   },
   "outputs": [],
   "source": [
    "# https://www.wunderground.com/weather/api/d/docs?d=data/conditions&MR=1\n",
    "def parse_weather(description):\n",
    "    if 'Fog' in description or 'Haze' in description:\n",
    "        return {'fog':1,'rain':0,'snow':0}\n",
    "    elif 'Rain' in description or 'Thunderstorm' in description:\n",
    "        return {'fog':0,'rain':1,'snow':0}\n",
    "    elif 'Sleet' in description or 'Snow' in description:\n",
    "        return {'fog':0,'rain':0,'snow':1}\n",
    "    else:\n",
    "        return {'fog':0,'rain':0,'snow':0}\n"
   ]
  },
  {
   "cell_type": "code",
   "execution_count": 29,
   "metadata": {
    "ExecuteTime": {
     "end_time": "2017-10-11T21:10:48.877268Z",
     "start_time": "2017-10-11T17:10:48.873083-04:00"
    },
    "collapsed": true
   },
   "outputs": [],
   "source": [
    "w_p = res.json()['current_observation']\n",
    "\n",
    "d = {\n",
    "    'temp':w_p['temp_f']\n",
    "    ,'prcp':w_p['precip_today_in']\n",
    "    \n",
    "}\n",
    "\n",
    "weather = w_p['weather']\n",
    "d = {**d,**parse_weather(weather)}"
   ]
  },
  {
   "cell_type": "code",
   "execution_count": 50,
   "metadata": {
    "ExecuteTime": {
     "end_time": "2017-10-12T09:58:48.014793Z",
     "start_time": "2017-10-12T05:58:47.998354-04:00"
    }
   },
   "outputs": [
    {
     "data": {
      "text/plain": [
       "{'fog': 0, 'prcp': '0.00', 'rain': 0, 'snow': 0, 'temp': 71.9}"
      ]
     },
     "execution_count": 50,
     "metadata": {},
     "output_type": "execute_result"
    }
   ],
   "source": [
    "d"
   ]
  },
  {
   "cell_type": "code",
   "execution_count": null,
   "metadata": {
    "collapsed": true
   },
   "outputs": [],
   "source": []
  }
 ],
 "metadata": {
  "kernelspec": {
   "display_name": "Python [conda env:py36]",
   "language": "python",
   "name": "conda-env-py36-py"
  },
  "language_info": {
   "codemirror_mode": {
    "name": "ipython",
    "version": 3
   },
   "file_extension": ".py",
   "mimetype": "text/x-python",
   "name": "python",
   "nbconvert_exporter": "python",
   "pygments_lexer": "ipython3",
   "version": "3.6.1"
  }
 },
 "nbformat": 4,
 "nbformat_minor": 2
}
