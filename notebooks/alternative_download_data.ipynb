{
 "cells": [
  {
   "cell_type": "markdown",
   "metadata": {
    "ExecuteTime": {
     "end_time": "2017-10-10T00:46:56.034909Z",
     "start_time": "2017-10-10T00:46:54.403891Z"
    },
    "collapsed": true
   },
   "source": [
    "# Purpose\n",
    "\n",
    "Loading data from Bigquery to local was slow through pandas..     \n",
    "Export the data to gcs and download data"
   ]
  },
  {
   "cell_type": "code",
   "execution_count": 1,
   "metadata": {
    "ExecuteTime": {
     "end_time": "2017-10-10T05:47:33.693889Z",
     "start_time": "2017-10-10T01:47:32.952843-04:00"
    },
    "collapsed": true
   },
   "outputs": [],
   "source": [
    "from google.datalab import Context\n",
    "import google.datalab.bigquery as bq\n",
    "import google.datalab.storage as storage\n",
    "import numpy as np\n",
    "import pandas as pd\n",
    "import json\n",
    "from sklearn.metrics import f1_score\n",
    "from io import StringIO"
   ]
  },
  {
   "cell_type": "code",
   "execution_count": 2,
   "metadata": {
    "ExecuteTime": {
     "end_time": "2017-10-10T05:47:35.901810Z",
     "start_time": "2017-10-10T01:47:35.434906-04:00"
    },
    "collapsed": true
   },
   "outputs": [],
   "source": [
    "%load_ext google.datalab.kernel\n"
   ]
  },
  {
   "cell_type": "code",
   "execution_count": 4,
   "metadata": {
    "ExecuteTime": {
     "end_time": "2017-10-10T05:47:40.816720Z",
     "start_time": "2017-10-10T01:47:40.808849-04:00"
    },
    "collapsed": true
   },
   "outputs": [],
   "source": [
    "%%bq query -n trips_q\n",
    "#SQL query to return total births by year\n",
    "WITH\n",
    "  departing AS (\n",
    "      SELECT\n",
    "        DATE(starttime) date,\n",
    "        EXTRACT(HOUR\n",
    "        FROM\n",
    "          starttime) hour,\n",
    "        start_station_id station_id,\n",
    "        COUNT(*) AS departing_bikes\n",
    "      FROM\n",
    "        `np-training.ableto.citibike`\n",
    "      GROUP BY\n",
    "        date,\n",
    "        hour,\n",
    "        station_id\n",
    "    ),\n",
    "  \n",
    "  incoming AS(\n",
    "      SELECT\n",
    "        DATE(stoptime) date,\n",
    "        EXTRACT(HOUR\n",
    "        FROM\n",
    "          stoptime) hour,\n",
    "        end_station_id station_id,\n",
    "        COUNT(*) AS incoming_bikes\n",
    "      FROM\n",
    "        `np-training.ableto.citibike`\n",
    "      GROUP BY\n",
    "        date,\n",
    "        hour,\n",
    "        station_id \n",
    "    )\n",
    "SELECT\n",
    "  COALESCE(d.date,\n",
    "    i.date) AS date,\n",
    "  COALESCE(d.hour,\n",
    "    i.hour) AS hour,\n",
    "  COALESCE(d.station_id,\n",
    "    i.station_id) AS station_id,\n",
    "  IFNULL(d.departing_bikes,\n",
    "    0) AS departing_bikes,\n",
    "  IFNULL(i.incoming_bikes,\n",
    "    0) AS incoming_bikes\n",
    "FROM\n",
    "  departing d\n",
    "FULL OUTER JOIN\n",
    "  incoming i\n",
    "ON\n",
    "  d.date = i.date\n",
    "  AND d.hour = i.hour\n",
    "  AND d.station_id = i.station_id"
   ]
  },
  {
   "cell_type": "code",
   "execution_count": 5,
   "metadata": {
    "ExecuteTime": {
     "end_time": "2017-10-10T05:48:29.529552Z",
     "start_time": "2017-10-10T01:47:41.505559-04:00"
    }
   },
   "outputs": [
    {
     "data": {
      "text/html": [
       "\n",
       "    <div class=\"bqtv\" id=\"2_150761450891\"><table><tr><th>date</th><th>hour</th><th>station_id</th><th>departing_bikes</th><th>incoming_bikes</th></tr><tr><td>2017-04-13</td><td>0</td><td>3180</td><td>23</td><td>26</td></tr><tr><td>2016-09-25</td><td>0</td><td>380</td><td>21</td><td>3</td></tr><tr><td>2015-08-12</td><td>0</td><td>285</td><td>22</td><td>5</td></tr><tr><td>2017-07-22</td><td>0</td><td>368</td><td>28</td><td>12</td></tr><tr><td>2016-09-09</td><td>0</td><td>368</td><td>19</td><td>5</td></tr><tr><td>2017-06-25</td><td>0</td><td>387</td><td>25</td><td>13</td></tr><tr><td>2016-09-04</td><td>0</td><td>217</td><td>19</td><td>9</td></tr><tr><td>2015-09-25</td><td>0</td><td>521</td><td>24</td><td>6</td></tr><tr><td>2017-07-04</td><td>0</td><td>426</td><td>26</td><td>13</td></tr><tr><td>2016-11-15</td><td>0</td><td>379</td><td>20</td><td>2</td></tr><tr><td>2015-10-11</td><td>0</td><td>497</td><td>19</td><td>3</td></tr><tr><td>2016-09-18</td><td>0</td><td>380</td><td>20</td><td>12</td></tr><tr><td>2017-04-16</td><td>0</td><td>3180</td><td>20</td><td>16</td></tr><tr><td>2016-07-24</td><td>0</td><td>426</td><td>24</td><td>16</td></tr><tr><td>2016-07-29</td><td>0</td><td>492</td><td>19</td><td>8</td></tr><tr><td>2017-07-04</td><td>1</td><td>426</td><td>22</td><td>37</td></tr><tr><td>2016-07-24</td><td>1</td><td>387</td><td>18</td><td>20</td></tr><tr><td>2017-07-04</td><td>1</td><td>2008</td><td>22</td><td>5</td></tr><tr><td>2016-10-21</td><td>1</td><td>217</td><td>18</td><td>18</td></tr><tr><td>2016-06-19</td><td>1</td><td>2006</td><td>19</td><td>11</td></tr><tr><td>2015-07-14</td><td>5</td><td>477</td><td>22</td><td>0</td></tr><tr><td>2016-08-16</td><td>5</td><td>3255</td><td>21</td><td>3</td></tr><tr><td>2017-01-26</td><td>5</td><td>477</td><td>24</td><td>2</td></tr><tr><td>2017-07-14</td><td>5</td><td>477</td><td>18</td><td>1</td></tr><tr><td>2015-11-20</td><td>5</td><td>477</td><td>19</td><td>0</td></tr></table></div>\n",
       "    <br />(rows: 7438686, time: 45.9s,     1GB processed, job: job_1kbE9ccwCMP9vdfH_LVwzZiiw3bJ)<br />\n",
       "    <script>\n",
       "\n",
       "      require.config({\n",
       "        paths: {\n",
       "          d3: '//cdnjs.cloudflare.com/ajax/libs/d3/3.4.13/d3',\n",
       "          plotly: 'https://cdn.plot.ly/plotly-1.5.1.min.js?noext',\n",
       "          jquery: '//ajax.googleapis.com/ajax/libs/jquery/2.0.0/jquery.min'\n",
       "        },\n",
       "        map: {\n",
       "          '*': {\n",
       "            datalab: 'nbextensions/gcpdatalab'\n",
       "          }\n",
       "        },\n",
       "        shim: {\n",
       "          plotly: {\n",
       "            deps: ['d3', 'jquery'],\n",
       "            exports: 'plotly'\n",
       "          }\n",
       "        }\n",
       "      });\n",
       "\n",
       "      require(['datalab/charting', 'datalab/element!2_150761450891', 'base/js/events',\n",
       "          'datalab/style!/nbextensions/gcpdatalab/charting.css'],\n",
       "        function(charts, dom, events) {\n",
       "          charts.render('gcharts', dom, events, 'paged_table', [], {\"cols\": [{\"id\": \"date\", \"label\": \"date\", \"type\": \"date\"}, {\"id\": \"hour\", \"label\": \"hour\", \"type\": \"number\"}, {\"id\": \"station_id\", \"label\": \"station_id\", \"type\": \"number\"}, {\"id\": \"departing_bikes\", \"label\": \"departing_bikes\", \"type\": \"number\"}, {\"id\": \"incoming_bikes\", \"label\": \"incoming_bikes\", \"type\": \"number\"}], \"rows\": [{\"c\": [{\"v\": \"2017-04-13\"}, {\"v\": 0}, {\"v\": 3180}, {\"v\": 23}, {\"v\": 26}]}, {\"c\": [{\"v\": \"2016-09-25\"}, {\"v\": 0}, {\"v\": 380}, {\"v\": 21}, {\"v\": 3}]}, {\"c\": [{\"v\": \"2015-08-12\"}, {\"v\": 0}, {\"v\": 285}, {\"v\": 22}, {\"v\": 5}]}, {\"c\": [{\"v\": \"2017-07-22\"}, {\"v\": 0}, {\"v\": 368}, {\"v\": 28}, {\"v\": 12}]}, {\"c\": [{\"v\": \"2016-09-09\"}, {\"v\": 0}, {\"v\": 368}, {\"v\": 19}, {\"v\": 5}]}, {\"c\": [{\"v\": \"2017-06-25\"}, {\"v\": 0}, {\"v\": 387}, {\"v\": 25}, {\"v\": 13}]}, {\"c\": [{\"v\": \"2016-09-04\"}, {\"v\": 0}, {\"v\": 217}, {\"v\": 19}, {\"v\": 9}]}, {\"c\": [{\"v\": \"2015-09-25\"}, {\"v\": 0}, {\"v\": 521}, {\"v\": 24}, {\"v\": 6}]}, {\"c\": [{\"v\": \"2017-07-04\"}, {\"v\": 0}, {\"v\": 426}, {\"v\": 26}, {\"v\": 13}]}, {\"c\": [{\"v\": \"2016-11-15\"}, {\"v\": 0}, {\"v\": 379}, {\"v\": 20}, {\"v\": 2}]}, {\"c\": [{\"v\": \"2015-10-11\"}, {\"v\": 0}, {\"v\": 497}, {\"v\": 19}, {\"v\": 3}]}, {\"c\": [{\"v\": \"2016-09-18\"}, {\"v\": 0}, {\"v\": 380}, {\"v\": 20}, {\"v\": 12}]}, {\"c\": [{\"v\": \"2017-04-16\"}, {\"v\": 0}, {\"v\": 3180}, {\"v\": 20}, {\"v\": 16}]}, {\"c\": [{\"v\": \"2016-07-24\"}, {\"v\": 0}, {\"v\": 426}, {\"v\": 24}, {\"v\": 16}]}, {\"c\": [{\"v\": \"2016-07-29\"}, {\"v\": 0}, {\"v\": 492}, {\"v\": 19}, {\"v\": 8}]}, {\"c\": [{\"v\": \"2017-07-04\"}, {\"v\": 1}, {\"v\": 426}, {\"v\": 22}, {\"v\": 37}]}, {\"c\": [{\"v\": \"2016-07-24\"}, {\"v\": 1}, {\"v\": 387}, {\"v\": 18}, {\"v\": 20}]}, {\"c\": [{\"v\": \"2017-07-04\"}, {\"v\": 1}, {\"v\": 2008}, {\"v\": 22}, {\"v\": 5}]}, {\"c\": [{\"v\": \"2016-10-21\"}, {\"v\": 1}, {\"v\": 217}, {\"v\": 18}, {\"v\": 18}]}, {\"c\": [{\"v\": \"2016-06-19\"}, {\"v\": 1}, {\"v\": 2006}, {\"v\": 19}, {\"v\": 11}]}, {\"c\": [{\"v\": \"2015-07-14\"}, {\"v\": 5}, {\"v\": 477}, {\"v\": 22}, {\"v\": 0}]}, {\"c\": [{\"v\": \"2016-08-16\"}, {\"v\": 5}, {\"v\": 3255}, {\"v\": 21}, {\"v\": 3}]}, {\"c\": [{\"v\": \"2017-01-26\"}, {\"v\": 5}, {\"v\": 477}, {\"v\": 24}, {\"v\": 2}]}, {\"c\": [{\"v\": \"2017-07-14\"}, {\"v\": 5}, {\"v\": 477}, {\"v\": 18}, {\"v\": 1}]}, {\"c\": [{\"v\": \"2015-11-20\"}, {\"v\": 5}, {\"v\": 477}, {\"v\": 19}, {\"v\": 0}]}]},\n",
       "            {\n",
       "              pageSize: 25,\n",
       "              cssClassNames:  {\n",
       "                tableRow: 'gchart-table-row',\n",
       "                headerRow: 'gchart-table-headerrow',\n",
       "                oddTableRow: 'gchart-table-oddrow',\n",
       "                selectedTableRow: 'gchart-table-selectedrow',\n",
       "                hoverTableRow: 'gchart-table-hoverrow',\n",
       "                tableCell: 'gchart-table-cell',\n",
       "                headerCell: 'gchart-table-headercell',\n",
       "                rowNumberCell: 'gchart-table-rownumcell'\n",
       "              }\n",
       "            },\n",
       "            {source_index: 1, fields: 'date,hour,station_id,departing_bikes,incoming_bikes'},\n",
       "            0,\n",
       "            7438686);\n",
       "        }\n",
       "      );\n",
       "    </script>\n",
       "  "
      ],
      "text/plain": [
       "QueryResultsTable job_1kbE9ccwCMP9vdfH_LVwzZiiw3bJ"
      ]
     },
     "execution_count": 5,
     "metadata": {},
     "output_type": "execute_result"
    }
   ],
   "source": [
    "%%bq execute -q trips_q -t ableto.citibike_daily -m overwrite\n"
   ]
  },
  {
   "cell_type": "markdown",
   "metadata": {},
   "source": [
    "**Save Data to GCS**     \n",
    "Export the aggregated data to GCS"
   ]
  },
  {
   "cell_type": "code",
   "execution_count": 9,
   "metadata": {
    "ExecuteTime": {
     "end_time": "2017-10-10T05:54:33.326916Z",
     "start_time": "2017-10-10T01:53:42.579584-04:00"
    }
   },
   "outputs": [
    {
     "data": {
      "text/plain": [
       "Job np-training/job_c3bxplcRqObyKEoPUehbx0Cfpta0 completed"
      ]
     },
     "execution_count": 9,
     "metadata": {},
     "output_type": "execute_result"
    }
   ],
   "source": [
    "project_id = Context.default().project_id\n",
    "bucket_path = 'gs://' + project_id\n",
    "bucket_object = bucket_path + '/data/citibike/trips_daily.csv.gz'\n",
    "\n",
    "table = bq.Table('ableto.citibike_daily')\n",
    "table.extract(destination = bucket_object, csv_header=True,compress=True)"
   ]
  },
  {
   "cell_type": "code",
   "execution_count": 10,
   "metadata": {
    "ExecuteTime": {
     "end_time": "2017-10-10T05:54:38.992532Z",
     "start_time": "2017-10-10T01:54:33.331594-04:00"
    }
   },
   "outputs": [
    {
     "name": "stderr",
     "output_type": "stream",
     "text": [
      "Copying gs://np-training/data/citibike/trips_daily.csv.gz...\n",
      "/ [0 files][    0.0 B/ 35.9 MiB]                                                \r",
      "-\r",
      "- [0 files][  4.1 MiB/ 35.9 MiB]                                                \r",
      "\\\r",
      "|\r",
      "| [0 files][ 15.5 MiB/ 35.9 MiB]                                                \r",
      "/\r",
      "/ [0 files][ 26.8 MiB/ 35.9 MiB]                                                \r",
      "-\r",
      "\\\r",
      "\\ [1 files][ 35.9 MiB/ 35.9 MiB]                                                \r\n",
      "Operation completed over 1 objects/35.9 MiB.                                     \n"
     ]
    }
   ],
   "source": [
    "%%bash -s \"$bucket_object\" \"trips_daily.csv.gz\"\n",
    "gsutil cp $1 $2"
   ]
  },
  {
   "cell_type": "code",
   "execution_count": null,
   "metadata": {
    "collapsed": true
   },
   "outputs": [],
   "source": []
  }
 ],
 "metadata": {
  "kernelspec": {
   "display_name": "Python [conda env:py36]",
   "language": "python",
   "name": "conda-env-py36-py"
  },
  "language_info": {
   "codemirror_mode": {
    "name": "ipython",
    "version": 3
   },
   "file_extension": ".py",
   "mimetype": "text/x-python",
   "name": "python",
   "nbconvert_exporter": "python",
   "pygments_lexer": "ipython3",
   "version": "3.6.1"
  }
 },
 "nbformat": 4,
 "nbformat_minor": 2
}
