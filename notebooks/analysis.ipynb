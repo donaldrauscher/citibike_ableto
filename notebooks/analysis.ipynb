{
 "cells": [
  {
   "cell_type": "markdown",
   "metadata": {
    "ExecuteTime": {
     "end_time": "2017-10-12T10:00:20.059031Z",
     "start_time": "2017-10-12T06:00:20.040549-04:00"
    }
   },
   "source": [
    "# Purpose\n",
    "Explore relationship of data        \n",
    "Build Model\n"
   ]
  },
  {
   "cell_type": "code",
   "execution_count": 1,
   "metadata": {
    "ExecuteTime": {
     "end_time": "2017-10-11T22:50:28.066131Z",
     "start_time": "2017-10-11T18:50:27.891813-04:00"
    }
   },
   "outputs": [
    {
     "name": "stdout",
     "output_type": "stream",
     "text": [
      "\u001b[31mReadme.md\u001b[m\u001b[m                  \u001b[31mmodel.pkl\u001b[m\u001b[m\r\n",
      "\u001b[31mUntitled.ipynb\u001b[m\u001b[m             \u001b[31mquery.sql\u001b[m\u001b[m\r\n",
      "\u001b[31mUntitled1.ipynb\u001b[m\u001b[m            \u001b[31mschema.json\u001b[m\u001b[m\r\n",
      "\u001b[31mablet_data.csv\u001b[m\u001b[m             \u001b[31mstations.csv.gz\u001b[m\u001b[m\r\n",
      "\u001b[31mablet_data.csv.gz\u001b[m\u001b[m          \u001b[31mtrain.csv\u001b[m\u001b[m\r\n",
      "\u001b[31mableto.csv\u001b[m\u001b[m                 \u001b[31mtrips.csv.gz\u001b[m\u001b[m\r\n",
      "\u001b[31malternative_download.ipynb\u001b[m\u001b[m \u001b[31mtrips_daily.csv.gz\u001b[m\u001b[m\r\n",
      "\u001b[31manalysis.ipynb\u001b[m\u001b[m             \u001b[31mweahter.ipynb\u001b[m\u001b[m\r\n",
      "\u001b[31mcols.pkl\u001b[m\u001b[m                   \u001b[31mweather.csv.gz\u001b[m\u001b[m\r\n",
      "\u001b[31mdownload_data.ipynb\u001b[m\u001b[m\r\n"
     ]
    }
   ],
   "source": [
    "!ls"
   ]
  },
  {
   "cell_type": "code",
   "execution_count": 288,
   "metadata": {
    "ExecuteTime": {
     "end_time": "2017-10-12T10:04:20.712496Z",
     "start_time": "2017-10-12T06:04:20.605474-04:00"
    },
    "collapsed": true
   },
   "outputs": [],
   "source": [
    "import pandas as pd\n",
    "import seaborn as sns\n",
    "from sklearn import metrics\n",
    "from sklearn.tree import DecisionTreeRegressor, export_graphviz\n",
    "import graphviz \n",
    "from sklearn import tree\n",
    "from sklearn.linear_model import LinearRegression\n",
    "import numpy as np\n",
    "from geopy.geocoders import Nominatim\n",
    "from geopy.distance import vincenty\n",
    "from category_encoders import *\n",
    "import category_encoders as ce\n",
    "from sklearn.feature_selection import SelectFromModel\n",
    "from sklearn.svm import LinearSVC\n",
    "from sklearn.pipeline import make_pipeline ,make_union, FeatureUnion, Pipeline\n",
    "import matplotlib.pyplot as plt\n",
    "from sklearn.preprocessing import FunctionTransformer , LabelBinarizer, LabelEncoder ,MinMaxScaler\n",
    "from sklearn.linear_model import LassoCV\n",
    "\n",
    "from sklearn.model_selection import train_test_split\n",
    "from sklearn.model_selection import cross_val_score\n",
    "from sklearn.linear_model import ElasticNet\n",
    "from sklearn.ensemble import RandomForestRegressor\n",
    "from sklearn import svm\n",
    "import math\n",
    "from sklearn.pipeline import make_pipeline\n",
    "from sklearn.linear_model import LassoCV\n",
    "%matplotlib inline"
   ]
  },
  {
   "cell_type": "markdown",
   "metadata": {},
   "source": [
    "# Load Data"
   ]
  },
  {
   "cell_type": "code",
   "execution_count": 284,
   "metadata": {
    "ExecuteTime": {
     "end_time": "2017-10-12T10:01:03.084366Z",
     "start_time": "2017-10-12T06:00:37.543353-04:00"
    },
    "collapsed": true
   },
   "outputs": [],
   "source": [
    "trips_df = pd.read_csv('trips_daily.csv.gz')\n",
    "trips_df['station_id'] = trips_df['station_id'].astype(str)"
   ]
  },
  {
   "cell_type": "code",
   "execution_count": 285,
   "metadata": {
    "ExecuteTime": {
     "end_time": "2017-10-12T10:01:03.106697Z",
     "start_time": "2017-10-12T06:01:03.086565-04:00"
    },
    "collapsed": true
   },
   "outputs": [],
   "source": [
    "stations_df = pd.read_csv('stations.csv.gz')\n",
    "stations_df['station_id'] = stations_df['station_id'].astype(str)"
   ]
  },
  {
   "cell_type": "code",
   "execution_count": 35,
   "metadata": {
    "ExecuteTime": {
     "end_time": "2017-10-11T23:00:46.804797Z",
     "start_time": "2017-10-11T19:00:46.796161-04:00"
    },
    "collapsed": true
   },
   "outputs": [],
   "source": [
    "weather_df = pd.read_csv('weather.csv.gz')\n",
    "weather_df['date'] = pd.to_datetime(weather_df['date'] )"
   ]
  },
  {
   "cell_type": "code",
   "execution_count": 36,
   "metadata": {
    "ExecuteTime": {
     "end_time": "2017-10-11T23:00:47.692506Z",
     "start_time": "2017-10-11T19:00:47.684326-04:00"
    }
   },
   "outputs": [
    {
     "data": {
      "text/html": [
       "<div>\n",
       "<style>\n",
       "    .dataframe thead tr:only-child th {\n",
       "        text-align: right;\n",
       "    }\n",
       "\n",
       "    .dataframe thead th {\n",
       "        text-align: left;\n",
       "    }\n",
       "\n",
       "    .dataframe tbody tr th {\n",
       "        vertical-align: top;\n",
       "    }\n",
       "</style>\n",
       "<table border=\"1\" class=\"dataframe\">\n",
       "  <thead>\n",
       "    <tr style=\"text-align: right;\">\n",
       "      <th></th>\n",
       "      <th>date</th>\n",
       "      <th>hour</th>\n",
       "      <th>station_id</th>\n",
       "      <th>departing_bikes</th>\n",
       "      <th>incoming_bikes</th>\n",
       "    </tr>\n",
       "  </thead>\n",
       "  <tbody>\n",
       "    <tr>\n",
       "      <th>0</th>\n",
       "      <td>2017-04-13</td>\n",
       "      <td>0</td>\n",
       "      <td>3180</td>\n",
       "      <td>23</td>\n",
       "      <td>26</td>\n",
       "    </tr>\n",
       "    <tr>\n",
       "      <th>1</th>\n",
       "      <td>2016-09-25</td>\n",
       "      <td>0</td>\n",
       "      <td>380</td>\n",
       "      <td>21</td>\n",
       "      <td>3</td>\n",
       "    </tr>\n",
       "  </tbody>\n",
       "</table>\n",
       "</div>"
      ],
      "text/plain": [
       "         date  hour station_id  departing_bikes  incoming_bikes\n",
       "0  2017-04-13     0       3180               23              26\n",
       "1  2016-09-25     0        380               21               3"
      ]
     },
     "execution_count": 36,
     "metadata": {},
     "output_type": "execute_result"
    }
   ],
   "source": [
    "trips_df.head(2)"
   ]
  },
  {
   "cell_type": "code",
   "execution_count": 37,
   "metadata": {
    "ExecuteTime": {
     "end_time": "2017-10-11T23:00:48.512356Z",
     "start_time": "2017-10-11T19:00:48.492243-04:00"
    }
   },
   "outputs": [
    {
     "data": {
      "text/html": [
       "<div>\n",
       "<style>\n",
       "    .dataframe thead tr:only-child th {\n",
       "        text-align: right;\n",
       "    }\n",
       "\n",
       "    .dataframe thead th {\n",
       "        text-align: left;\n",
       "    }\n",
       "\n",
       "    .dataframe tbody tr th {\n",
       "        vertical-align: top;\n",
       "    }\n",
       "</style>\n",
       "<table border=\"1\" class=\"dataframe\">\n",
       "  <thead>\n",
       "    <tr style=\"text-align: right;\">\n",
       "      <th></th>\n",
       "      <th>station_id</th>\n",
       "      <th>name</th>\n",
       "      <th>short_name</th>\n",
       "      <th>latitude</th>\n",
       "      <th>longitude</th>\n",
       "      <th>region_id</th>\n",
       "      <th>rental_methods</th>\n",
       "      <th>capacity</th>\n",
       "      <th>num_bikes_available</th>\n",
       "      <th>num_bikes_disabled</th>\n",
       "      <th>num_docks_available</th>\n",
       "      <th>num_docks_disabled</th>\n",
       "      <th>is_installed</th>\n",
       "      <th>is_renting</th>\n",
       "      <th>is_returning</th>\n",
       "      <th>last_reported</th>\n",
       "      <th>eightd_has_available_keys</th>\n",
       "      <th>eightd_has_key_dispenser</th>\n",
       "    </tr>\n",
       "  </thead>\n",
       "  <tbody>\n",
       "    <tr>\n",
       "      <th>0</th>\n",
       "      <td>3615</td>\n",
       "      <td>Coming Soon: 44 Dr &amp; 21 St</td>\n",
       "      <td>6278.04</td>\n",
       "      <td>40.74800</td>\n",
       "      <td>-73.946093</td>\n",
       "      <td>71.0</td>\n",
       "      <td>CREDITCARD,KEY</td>\n",
       "      <td>0</td>\n",
       "      <td>0</td>\n",
       "      <td>0</td>\n",
       "      <td>0</td>\n",
       "      <td>0</td>\n",
       "      <td>False</td>\n",
       "      <td>False</td>\n",
       "      <td>False</td>\n",
       "      <td>1970-01-01 00:00:00</td>\n",
       "      <td>False</td>\n",
       "      <td>False</td>\n",
       "    </tr>\n",
       "    <tr>\n",
       "      <th>1</th>\n",
       "      <td>3491</td>\n",
       "      <td>Coming Soon: E 118 St &amp; 1 Ave</td>\n",
       "      <td>7596.10</td>\n",
       "      <td>40.79747</td>\n",
       "      <td>-73.935040</td>\n",
       "      <td>71.0</td>\n",
       "      <td>CREDITCARD,KEY</td>\n",
       "      <td>0</td>\n",
       "      <td>0</td>\n",
       "      <td>0</td>\n",
       "      <td>0</td>\n",
       "      <td>0</td>\n",
       "      <td>False</td>\n",
       "      <td>False</td>\n",
       "      <td>False</td>\n",
       "      <td>1970-01-01 00:00:00</td>\n",
       "      <td>False</td>\n",
       "      <td>False</td>\n",
       "    </tr>\n",
       "  </tbody>\n",
       "</table>\n",
       "</div>"
      ],
      "text/plain": [
       "  station_id                           name short_name  latitude  longitude  \\\n",
       "0       3615     Coming Soon: 44 Dr & 21 St    6278.04  40.74800 -73.946093   \n",
       "1       3491  Coming Soon: E 118 St & 1 Ave    7596.10  40.79747 -73.935040   \n",
       "\n",
       "   region_id  rental_methods  capacity  num_bikes_available  \\\n",
       "0       71.0  CREDITCARD,KEY         0                    0   \n",
       "1       71.0  CREDITCARD,KEY         0                    0   \n",
       "\n",
       "   num_bikes_disabled  num_docks_available  num_docks_disabled  is_installed  \\\n",
       "0                   0                    0                   0         False   \n",
       "1                   0                    0                   0         False   \n",
       "\n",
       "   is_renting  is_returning        last_reported  eightd_has_available_keys  \\\n",
       "0       False         False  1970-01-01 00:00:00                      False   \n",
       "1       False         False  1970-01-01 00:00:00                      False   \n",
       "\n",
       "   eightd_has_key_dispenser  \n",
       "0                     False  \n",
       "1                     False  "
      ]
     },
     "execution_count": 37,
     "metadata": {},
     "output_type": "execute_result"
    }
   ],
   "source": [
    "stations_df.head(2)"
   ]
  },
  {
   "cell_type": "code",
   "execution_count": 38,
   "metadata": {
    "ExecuteTime": {
     "end_time": "2017-10-11T23:00:49.447995Z",
     "start_time": "2017-10-11T19:00:49.436713-04:00"
    }
   },
   "outputs": [
    {
     "data": {
      "text/html": [
       "<div>\n",
       "<style>\n",
       "    .dataframe thead tr:only-child th {\n",
       "        text-align: right;\n",
       "    }\n",
       "\n",
       "    .dataframe thead th {\n",
       "        text-align: left;\n",
       "    }\n",
       "\n",
       "    .dataframe tbody tr th {\n",
       "        vertical-align: top;\n",
       "    }\n",
       "</style>\n",
       "<table border=\"1\" class=\"dataframe\">\n",
       "  <thead>\n",
       "    <tr style=\"text-align: right;\">\n",
       "      <th></th>\n",
       "      <th>stn</th>\n",
       "      <th>wban</th>\n",
       "      <th>date</th>\n",
       "      <th>temp</th>\n",
       "      <th>count_temp</th>\n",
       "      <th>prcp</th>\n",
       "      <th>is_foggy</th>\n",
       "      <th>is_raining</th>\n",
       "      <th>is_snowing</th>\n",
       "    </tr>\n",
       "  </thead>\n",
       "  <tbody>\n",
       "    <tr>\n",
       "      <th>1013</th>\n",
       "      <td>725030</td>\n",
       "      <td>14732</td>\n",
       "      <td>2015-01-13</td>\n",
       "      <td>30.2</td>\n",
       "      <td>24</td>\n",
       "      <td>0.39</td>\n",
       "      <td>0</td>\n",
       "      <td>1</td>\n",
       "      <td>0</td>\n",
       "    </tr>\n",
       "    <tr>\n",
       "      <th>1014</th>\n",
       "      <td>725030</td>\n",
       "      <td>14732</td>\n",
       "      <td>2015-12-15</td>\n",
       "      <td>60.7</td>\n",
       "      <td>24</td>\n",
       "      <td>0.39</td>\n",
       "      <td>0</td>\n",
       "      <td>1</td>\n",
       "      <td>0</td>\n",
       "    </tr>\n",
       "  </tbody>\n",
       "</table>\n",
       "</div>"
      ],
      "text/plain": [
       "         stn   wban       date  temp  count_temp  prcp  is_foggy  is_raining  \\\n",
       "1013  725030  14732 2015-01-13  30.2          24  0.39         0           1   \n",
       "1014  725030  14732 2015-12-15  60.7          24  0.39         0           1   \n",
       "\n",
       "      is_snowing  \n",
       "1013           0  \n",
       "1014           0  "
      ]
     },
     "execution_count": 38,
     "metadata": {},
     "output_type": "execute_result"
    }
   ],
   "source": [
    "weather_df.tail(2)"
   ]
  },
  {
   "cell_type": "code",
   "execution_count": 39,
   "metadata": {
    "ExecuteTime": {
     "end_time": "2017-10-11T23:00:52.829217Z",
     "start_time": "2017-10-11T19:00:50.939652-04:00"
    },
    "collapsed": true
   },
   "outputs": [],
   "source": [
    "trips_df['date'] = pd.to_datetime(trips_df['date'])"
   ]
  },
  {
   "cell_type": "code",
   "execution_count": 40,
   "metadata": {
    "ExecuteTime": {
     "end_time": "2017-10-11T23:00:52.846598Z",
     "start_time": "2017-10-11T19:00:52.831145-04:00"
    }
   },
   "outputs": [
    {
     "data": {
      "text/html": [
       "<div>\n",
       "<style>\n",
       "    .dataframe thead tr:only-child th {\n",
       "        text-align: right;\n",
       "    }\n",
       "\n",
       "    .dataframe thead th {\n",
       "        text-align: left;\n",
       "    }\n",
       "\n",
       "    .dataframe tbody tr th {\n",
       "        vertical-align: top;\n",
       "    }\n",
       "</style>\n",
       "<table border=\"1\" class=\"dataframe\">\n",
       "  <thead>\n",
       "    <tr style=\"text-align: right;\">\n",
       "      <th></th>\n",
       "      <th>date</th>\n",
       "      <th>hour</th>\n",
       "      <th>station_id</th>\n",
       "      <th>departing_bikes</th>\n",
       "      <th>incoming_bikes</th>\n",
       "    </tr>\n",
       "  </thead>\n",
       "  <tbody>\n",
       "    <tr>\n",
       "      <th>0</th>\n",
       "      <td>2017-04-13</td>\n",
       "      <td>0</td>\n",
       "      <td>3180</td>\n",
       "      <td>23</td>\n",
       "      <td>26</td>\n",
       "    </tr>\n",
       "    <tr>\n",
       "      <th>1</th>\n",
       "      <td>2016-09-25</td>\n",
       "      <td>0</td>\n",
       "      <td>380</td>\n",
       "      <td>21</td>\n",
       "      <td>3</td>\n",
       "    </tr>\n",
       "    <tr>\n",
       "      <th>2</th>\n",
       "      <td>2015-08-12</td>\n",
       "      <td>0</td>\n",
       "      <td>285</td>\n",
       "      <td>22</td>\n",
       "      <td>5</td>\n",
       "    </tr>\n",
       "    <tr>\n",
       "      <th>3</th>\n",
       "      <td>2017-07-22</td>\n",
       "      <td>0</td>\n",
       "      <td>368</td>\n",
       "      <td>28</td>\n",
       "      <td>12</td>\n",
       "    </tr>\n",
       "    <tr>\n",
       "      <th>4</th>\n",
       "      <td>2016-09-09</td>\n",
       "      <td>0</td>\n",
       "      <td>368</td>\n",
       "      <td>19</td>\n",
       "      <td>5</td>\n",
       "    </tr>\n",
       "  </tbody>\n",
       "</table>\n",
       "</div>"
      ],
      "text/plain": [
       "        date  hour station_id  departing_bikes  incoming_bikes\n",
       "0 2017-04-13     0       3180               23              26\n",
       "1 2016-09-25     0        380               21               3\n",
       "2 2015-08-12     0        285               22               5\n",
       "3 2017-07-22     0        368               28              12\n",
       "4 2016-09-09     0        368               19               5"
      ]
     },
     "execution_count": 40,
     "metadata": {},
     "output_type": "execute_result"
    }
   ],
   "source": [
    "trips_df.head()"
   ]
  },
  {
   "cell_type": "code",
   "execution_count": 42,
   "metadata": {
    "ExecuteTime": {
     "end_time": "2017-10-11T23:01:28.698211Z",
     "start_time": "2017-10-11T19:01:27.923778-04:00"
    }
   },
   "outputs": [
    {
     "data": {
      "text/html": [
       "<div>\n",
       "<style>\n",
       "    .dataframe thead tr:only-child th {\n",
       "        text-align: right;\n",
       "    }\n",
       "\n",
       "    .dataframe thead th {\n",
       "        text-align: left;\n",
       "    }\n",
       "\n",
       "    .dataframe tbody tr th {\n",
       "        vertical-align: top;\n",
       "    }\n",
       "</style>\n",
       "<table border=\"1\" class=\"dataframe\">\n",
       "  <thead>\n",
       "    <tr style=\"text-align: right;\">\n",
       "      <th></th>\n",
       "      <th></th>\n",
       "      <th>departing_bikes</th>\n",
       "      <th>incoming_bikes</th>\n",
       "    </tr>\n",
       "    <tr>\n",
       "      <th>date</th>\n",
       "      <th>hour</th>\n",
       "      <th></th>\n",
       "      <th></th>\n",
       "    </tr>\n",
       "  </thead>\n",
       "  <tbody>\n",
       "    <tr>\n",
       "      <th rowspan=\"5\" valign=\"top\">2015-01-01</th>\n",
       "      <th>0</th>\n",
       "      <td>1</td>\n",
       "      <td>0</td>\n",
       "    </tr>\n",
       "    <tr>\n",
       "      <th>1</th>\n",
       "      <td>1</td>\n",
       "      <td>2</td>\n",
       "    </tr>\n",
       "    <tr>\n",
       "      <th>2</th>\n",
       "      <td>0</td>\n",
       "      <td>4</td>\n",
       "    </tr>\n",
       "    <tr>\n",
       "      <th>10</th>\n",
       "      <td>2</td>\n",
       "      <td>1</td>\n",
       "    </tr>\n",
       "    <tr>\n",
       "      <th>11</th>\n",
       "      <td>2</td>\n",
       "      <td>5</td>\n",
       "    </tr>\n",
       "  </tbody>\n",
       "</table>\n",
       "</div>"
      ],
      "text/plain": [
       "                 departing_bikes  incoming_bikes\n",
       "date       hour                                 \n",
       "2015-01-01 0                   1               0\n",
       "           1                   1               2\n",
       "           2                   0               4\n",
       "           10                  2               1\n",
       "           11                  2               5"
      ]
     },
     "execution_count": 42,
     "metadata": {},
     "output_type": "execute_result"
    }
   ],
   "source": [
    "station_id = '368'\n",
    "trips_df[trips_df['station_id']==station_id].groupby(['date','hour'])['departing_bikes','incoming_bikes'].sum().head()"
   ]
  },
  {
   "cell_type": "code",
   "execution_count": 43,
   "metadata": {
    "ExecuteTime": {
     "end_time": "2017-10-11T23:01:30.210982Z",
     "start_time": "2017-10-11T19:01:30.195943-04:00"
    }
   },
   "outputs": [
    {
     "data": {
      "text/html": [
       "<div>\n",
       "<style>\n",
       "    .dataframe thead tr:only-child th {\n",
       "        text-align: right;\n",
       "    }\n",
       "\n",
       "    .dataframe thead th {\n",
       "        text-align: left;\n",
       "    }\n",
       "\n",
       "    .dataframe tbody tr th {\n",
       "        vertical-align: top;\n",
       "    }\n",
       "</style>\n",
       "<table border=\"1\" class=\"dataframe\">\n",
       "  <thead>\n",
       "    <tr style=\"text-align: right;\">\n",
       "      <th></th>\n",
       "      <th>name</th>\n",
       "      <th>station_id</th>\n",
       "      <th>capacity</th>\n",
       "      <th>is_installed</th>\n",
       "      <th>is_renting</th>\n",
       "      <th>is_returning</th>\n",
       "    </tr>\n",
       "  </thead>\n",
       "  <tbody>\n",
       "    <tr>\n",
       "      <th>6</th>\n",
       "      <td>E 58 St &amp; Madison Ave</td>\n",
       "      <td>3457</td>\n",
       "      <td>0</td>\n",
       "      <td>True</td>\n",
       "      <td>False</td>\n",
       "      <td>False</td>\n",
       "    </tr>\n",
       "    <tr>\n",
       "      <th>16</th>\n",
       "      <td>Degraw St &amp; Smith St</td>\n",
       "      <td>3329</td>\n",
       "      <td>0</td>\n",
       "      <td>True</td>\n",
       "      <td>False</td>\n",
       "      <td>False</td>\n",
       "    </tr>\n",
       "    <tr>\n",
       "      <th>33</th>\n",
       "      <td>Degraw St &amp; Hoyt St</td>\n",
       "      <td>3332</td>\n",
       "      <td>0</td>\n",
       "      <td>True</td>\n",
       "      <td>False</td>\n",
       "      <td>False</td>\n",
       "    </tr>\n",
       "    <tr>\n",
       "      <th>53</th>\n",
       "      <td>Lexington Ave &amp; E 127 St</td>\n",
       "      <td>3505</td>\n",
       "      <td>0</td>\n",
       "      <td>True</td>\n",
       "      <td>False</td>\n",
       "      <td>False</td>\n",
       "    </tr>\n",
       "    <tr>\n",
       "      <th>58</th>\n",
       "      <td>Reed St &amp; Van Brunt St</td>\n",
       "      <td>3353</td>\n",
       "      <td>3</td>\n",
       "      <td>True</td>\n",
       "      <td>False</td>\n",
       "      <td>False</td>\n",
       "    </tr>\n",
       "  </tbody>\n",
       "</table>\n",
       "</div>"
      ],
      "text/plain": [
       "                        name station_id  capacity  is_installed  is_renting  \\\n",
       "6      E 58 St & Madison Ave       3457         0          True       False   \n",
       "16      Degraw St & Smith St       3329         0          True       False   \n",
       "33       Degraw St & Hoyt St       3332         0          True       False   \n",
       "53  Lexington Ave & E 127 St       3505         0          True       False   \n",
       "58    Reed St & Van Brunt St       3353         3          True       False   \n",
       "\n",
       "    is_returning  \n",
       "6          False  \n",
       "16         False  \n",
       "33         False  \n",
       "53         False  \n",
       "58         False  "
      ]
     },
     "execution_count": 43,
     "metadata": {},
     "output_type": "execute_result"
    }
   ],
   "source": [
    "stations_df[stations_df['is_installed']==True][['name','station_id','capacity','is_installed','is_renting','is_returning']].head()"
   ]
  },
  {
   "cell_type": "markdown",
   "metadata": {
    "ExecuteTime": {
     "end_time": "2017-10-11T23:01:31.013703Z",
     "start_time": "2017-10-11T19:01:31.011254-04:00"
    },
    "collapsed": true
   },
   "source": [
    "# Stations near AbleTo"
   ]
  },
  {
   "cell_type": "code",
   "execution_count": 45,
   "metadata": {
    "ExecuteTime": {
     "end_time": "2017-10-11T23:01:32.529922Z",
     "start_time": "2017-10-11T19:01:31.930268-04:00"
    }
   },
   "outputs": [
    {
     "name": "stdout",
     "output_type": "stream",
     "text": [
      "320, West 37th Street, Manhattan Community Board 4, New York County, NYC, New York, 10018, United States of America\n",
      "(40.75438325, -73.9933586843946)\n"
     ]
    }
   ],
   "source": [
    "geolocator = Nominatim()\n",
    "location = geolocator.geocode(\"320 West 37th Street, New York, NY 10018, United States\")\n",
    "print(location.address)\n",
    "\n",
    "ableto_coordinates = (location.latitude, location.longitude)\n",
    "print(ableto_coordinates)\n"
   ]
  },
  {
   "cell_type": "code",
   "execution_count": 46,
   "metadata": {
    "ExecuteTime": {
     "end_time": "2017-10-11T23:01:33.050474Z",
     "start_time": "2017-10-11T19:01:32.999537-04:00"
    },
    "collapsed": true
   },
   "outputs": [],
   "source": [
    "stations_df['ableto_distance'] =stations_df.apply(\n",
    "    lambda x: vincenty(\n",
    "        ableto_coordinates, (x['latitude'],x['longitude'])).miles,axis=1 )"
   ]
  },
  {
   "cell_type": "code",
   "execution_count": 47,
   "metadata": {
    "ExecuteTime": {
     "end_time": "2017-10-11T23:01:33.832639Z",
     "start_time": "2017-10-11T19:01:33.806295-04:00"
    }
   },
   "outputs": [
    {
     "data": {
      "text/html": [
       "<div>\n",
       "<style>\n",
       "    .dataframe thead tr:only-child th {\n",
       "        text-align: right;\n",
       "    }\n",
       "\n",
       "    .dataframe thead th {\n",
       "        text-align: left;\n",
       "    }\n",
       "\n",
       "    .dataframe tbody tr th {\n",
       "        vertical-align: top;\n",
       "    }\n",
       "</style>\n",
       "<table border=\"1\" class=\"dataframe\">\n",
       "  <thead>\n",
       "    <tr style=\"text-align: right;\">\n",
       "      <th></th>\n",
       "      <th>station_id</th>\n",
       "      <th>name</th>\n",
       "      <th>short_name</th>\n",
       "      <th>latitude</th>\n",
       "      <th>longitude</th>\n",
       "      <th>region_id</th>\n",
       "      <th>rental_methods</th>\n",
       "      <th>capacity</th>\n",
       "      <th>num_bikes_available</th>\n",
       "      <th>num_bikes_disabled</th>\n",
       "      <th>num_docks_available</th>\n",
       "      <th>num_docks_disabled</th>\n",
       "      <th>is_installed</th>\n",
       "      <th>is_renting</th>\n",
       "      <th>is_returning</th>\n",
       "      <th>last_reported</th>\n",
       "      <th>eightd_has_available_keys</th>\n",
       "      <th>eightd_has_key_dispenser</th>\n",
       "      <th>ableto_distance</th>\n",
       "    </tr>\n",
       "  </thead>\n",
       "  <tbody>\n",
       "    <tr>\n",
       "      <th>668</th>\n",
       "      <td>3635</td>\n",
       "      <td>W 36 St &amp; 9 Ave</td>\n",
       "      <td>6569.07</td>\n",
       "      <td>40.754623</td>\n",
       "      <td>-73.995168</td>\n",
       "      <td>71.0</td>\n",
       "      <td>CREDITCARD,KEY</td>\n",
       "      <td>41</td>\n",
       "      <td>11</td>\n",
       "      <td>2</td>\n",
       "      <td>28</td>\n",
       "      <td>0</td>\n",
       "      <td>True</td>\n",
       "      <td>True</td>\n",
       "      <td>True</td>\n",
       "      <td>2017-10-10 05:08:40</td>\n",
       "      <td>False</td>\n",
       "      <td>False</td>\n",
       "      <td>0.096353</td>\n",
       "    </tr>\n",
       "    <tr>\n",
       "      <th>494</th>\n",
       "      <td>523</td>\n",
       "      <td>W 38 St &amp; 8 Ave</td>\n",
       "      <td>6526.03</td>\n",
       "      <td>40.754666</td>\n",
       "      <td>-73.991382</td>\n",
       "      <td>71.0</td>\n",
       "      <td>CREDITCARD,KEY</td>\n",
       "      <td>51</td>\n",
       "      <td>6</td>\n",
       "      <td>1</td>\n",
       "      <td>44</td>\n",
       "      <td>0</td>\n",
       "      <td>True</td>\n",
       "      <td>True</td>\n",
       "      <td>True</td>\n",
       "      <td>2017-10-10 04:39:18</td>\n",
       "      <td>False</td>\n",
       "      <td>False</td>\n",
       "      <td>0.105565</td>\n",
       "    </tr>\n",
       "    <tr>\n",
       "      <th>599</th>\n",
       "      <td>490</td>\n",
       "      <td>8 Ave &amp; W 33 St</td>\n",
       "      <td>6450.12</td>\n",
       "      <td>40.751551</td>\n",
       "      <td>-73.993934</td>\n",
       "      <td>71.0</td>\n",
       "      <td>CREDITCARD,KEY</td>\n",
       "      <td>59</td>\n",
       "      <td>25</td>\n",
       "      <td>1</td>\n",
       "      <td>33</td>\n",
       "      <td>0</td>\n",
       "      <td>True</td>\n",
       "      <td>True</td>\n",
       "      <td>True</td>\n",
       "      <td>2017-10-10 04:56:34</td>\n",
       "      <td>False</td>\n",
       "      <td>False</td>\n",
       "      <td>0.197751</td>\n",
       "    </tr>\n",
       "    <tr>\n",
       "      <th>614</th>\n",
       "      <td>477</td>\n",
       "      <td>W 41 St &amp; 8 Ave</td>\n",
       "      <td>6602.03</td>\n",
       "      <td>40.756405</td>\n",
       "      <td>-73.990026</td>\n",
       "      <td>71.0</td>\n",
       "      <td>CREDITCARD,KEY</td>\n",
       "      <td>59</td>\n",
       "      <td>46</td>\n",
       "      <td>1</td>\n",
       "      <td>12</td>\n",
       "      <td>0</td>\n",
       "      <td>True</td>\n",
       "      <td>True</td>\n",
       "      <td>True</td>\n",
       "      <td>2017-10-10 04:42:14</td>\n",
       "      <td>False</td>\n",
       "      <td>False</td>\n",
       "      <td>0.223714</td>\n",
       "    </tr>\n",
       "    <tr>\n",
       "      <th>704</th>\n",
       "      <td>529</td>\n",
       "      <td>W 42 St &amp; 8 Ave</td>\n",
       "      <td>6602.05</td>\n",
       "      <td>40.757570</td>\n",
       "      <td>-73.990985</td>\n",
       "      <td>71.0</td>\n",
       "      <td>CREDITCARD,KEY</td>\n",
       "      <td>41</td>\n",
       "      <td>26</td>\n",
       "      <td>2</td>\n",
       "      <td>13</td>\n",
       "      <td>0</td>\n",
       "      <td>True</td>\n",
       "      <td>True</td>\n",
       "      <td>True</td>\n",
       "      <td>2017-10-10 05:03:54</td>\n",
       "      <td>False</td>\n",
       "      <td>False</td>\n",
       "      <td>0.252710</td>\n",
       "    </tr>\n",
       "  </tbody>\n",
       "</table>\n",
       "</div>"
      ],
      "text/plain": [
       "    station_id             name short_name   latitude  longitude  region_id  \\\n",
       "668       3635  W 36 St & 9 Ave    6569.07  40.754623 -73.995168       71.0   \n",
       "494        523  W 38 St & 8 Ave    6526.03  40.754666 -73.991382       71.0   \n",
       "599        490  8 Ave & W 33 St    6450.12  40.751551 -73.993934       71.0   \n",
       "614        477  W 41 St & 8 Ave    6602.03  40.756405 -73.990026       71.0   \n",
       "704        529  W 42 St & 8 Ave    6602.05  40.757570 -73.990985       71.0   \n",
       "\n",
       "     rental_methods  capacity  num_bikes_available  num_bikes_disabled  \\\n",
       "668  CREDITCARD,KEY        41                   11                   2   \n",
       "494  CREDITCARD,KEY        51                    6                   1   \n",
       "599  CREDITCARD,KEY        59                   25                   1   \n",
       "614  CREDITCARD,KEY        59                   46                   1   \n",
       "704  CREDITCARD,KEY        41                   26                   2   \n",
       "\n",
       "     num_docks_available  num_docks_disabled  is_installed  is_renting  \\\n",
       "668                   28                   0          True        True   \n",
       "494                   44                   0          True        True   \n",
       "599                   33                   0          True        True   \n",
       "614                   12                   0          True        True   \n",
       "704                   13                   0          True        True   \n",
       "\n",
       "     is_returning        last_reported  eightd_has_available_keys  \\\n",
       "668          True  2017-10-10 05:08:40                      False   \n",
       "494          True  2017-10-10 04:39:18                      False   \n",
       "599          True  2017-10-10 04:56:34                      False   \n",
       "614          True  2017-10-10 04:42:14                      False   \n",
       "704          True  2017-10-10 05:03:54                      False   \n",
       "\n",
       "     eightd_has_key_dispenser  ableto_distance  \n",
       "668                     False         0.096353  \n",
       "494                     False         0.105565  \n",
       "599                     False         0.197751  \n",
       "614                     False         0.223714  \n",
       "704                     False         0.252710  "
      ]
     },
     "execution_count": 47,
     "metadata": {},
     "output_type": "execute_result"
    }
   ],
   "source": [
    "nearby_stations = stations_df.sort_values(['ableto_distance'],ascending=True).head(5)\n",
    "nearby_stations"
   ]
  },
  {
   "cell_type": "markdown",
   "metadata": {},
   "source": [
    "# Subset Data\n",
    "Lets only look at data for those stations neat AbleTo"
   ]
  },
  {
   "cell_type": "code",
   "execution_count": 250,
   "metadata": {
    "ExecuteTime": {
     "end_time": "2017-10-12T06:43:56.305732Z",
     "start_time": "2017-10-12T02:43:52.522996-04:00"
    }
   },
   "outputs": [
    {
     "data": {
      "text/html": [
       "<div>\n",
       "<style>\n",
       "    .dataframe thead tr:only-child th {\n",
       "        text-align: right;\n",
       "    }\n",
       "\n",
       "    .dataframe thead th {\n",
       "        text-align: left;\n",
       "    }\n",
       "\n",
       "    .dataframe tbody tr th {\n",
       "        vertical-align: top;\n",
       "    }\n",
       "</style>\n",
       "<table border=\"1\" class=\"dataframe\">\n",
       "  <thead>\n",
       "    <tr style=\"text-align: right;\">\n",
       "      <th></th>\n",
       "      <th>date</th>\n",
       "      <th>hour</th>\n",
       "      <th>station_id</th>\n",
       "      <th>departing_bikes</th>\n",
       "      <th>incoming_bikes</th>\n",
       "      <th>name</th>\n",
       "      <th>num_docks_available</th>\n",
       "      <th>stn</th>\n",
       "      <th>wban</th>\n",
       "      <th>temp</th>\n",
       "      <th>count_temp</th>\n",
       "      <th>prcp</th>\n",
       "      <th>is_foggy</th>\n",
       "      <th>is_raining</th>\n",
       "      <th>is_snowing</th>\n",
       "    </tr>\n",
       "  </thead>\n",
       "  <tbody>\n",
       "    <tr>\n",
       "      <th>0</th>\n",
       "      <td>2015-07-14</td>\n",
       "      <td>5</td>\n",
       "      <td>477</td>\n",
       "      <td>22</td>\n",
       "      <td>0</td>\n",
       "      <td>W 41 St &amp; 8 Ave</td>\n",
       "      <td>12</td>\n",
       "      <td>725030</td>\n",
       "      <td>14732</td>\n",
       "      <td>76.1</td>\n",
       "      <td>24</td>\n",
       "      <td>0.0</td>\n",
       "      <td>1</td>\n",
       "      <td>1</td>\n",
       "      <td>0</td>\n",
       "    </tr>\n",
       "    <tr>\n",
       "      <th>1</th>\n",
       "      <td>2015-07-14</td>\n",
       "      <td>6</td>\n",
       "      <td>477</td>\n",
       "      <td>44</td>\n",
       "      <td>2</td>\n",
       "      <td>W 41 St &amp; 8 Ave</td>\n",
       "      <td>12</td>\n",
       "      <td>725030</td>\n",
       "      <td>14732</td>\n",
       "      <td>76.1</td>\n",
       "      <td>24</td>\n",
       "      <td>0.0</td>\n",
       "      <td>1</td>\n",
       "      <td>1</td>\n",
       "      <td>0</td>\n",
       "    </tr>\n",
       "    <tr>\n",
       "      <th>2</th>\n",
       "      <td>2015-07-14</td>\n",
       "      <td>17</td>\n",
       "      <td>477</td>\n",
       "      <td>38</td>\n",
       "      <td>61</td>\n",
       "      <td>W 41 St &amp; 8 Ave</td>\n",
       "      <td>12</td>\n",
       "      <td>725030</td>\n",
       "      <td>14732</td>\n",
       "      <td>76.1</td>\n",
       "      <td>24</td>\n",
       "      <td>0.0</td>\n",
       "      <td>1</td>\n",
       "      <td>1</td>\n",
       "      <td>0</td>\n",
       "    </tr>\n",
       "    <tr>\n",
       "      <th>3</th>\n",
       "      <td>2015-07-14</td>\n",
       "      <td>18</td>\n",
       "      <td>477</td>\n",
       "      <td>45</td>\n",
       "      <td>38</td>\n",
       "      <td>W 41 St &amp; 8 Ave</td>\n",
       "      <td>12</td>\n",
       "      <td>725030</td>\n",
       "      <td>14732</td>\n",
       "      <td>76.1</td>\n",
       "      <td>24</td>\n",
       "      <td>0.0</td>\n",
       "      <td>1</td>\n",
       "      <td>1</td>\n",
       "      <td>0</td>\n",
       "    </tr>\n",
       "    <tr>\n",
       "      <th>4</th>\n",
       "      <td>2015-07-14</td>\n",
       "      <td>19</td>\n",
       "      <td>477</td>\n",
       "      <td>26</td>\n",
       "      <td>22</td>\n",
       "      <td>W 41 St &amp; 8 Ave</td>\n",
       "      <td>12</td>\n",
       "      <td>725030</td>\n",
       "      <td>14732</td>\n",
       "      <td>76.1</td>\n",
       "      <td>24</td>\n",
       "      <td>0.0</td>\n",
       "      <td>1</td>\n",
       "      <td>1</td>\n",
       "      <td>0</td>\n",
       "    </tr>\n",
       "  </tbody>\n",
       "</table>\n",
       "</div>"
      ],
      "text/plain": [
       "        date  hour station_id  departing_bikes  incoming_bikes  \\\n",
       "0 2015-07-14     5        477               22               0   \n",
       "1 2015-07-14     6        477               44               2   \n",
       "2 2015-07-14    17        477               38              61   \n",
       "3 2015-07-14    18        477               45              38   \n",
       "4 2015-07-14    19        477               26              22   \n",
       "\n",
       "              name  num_docks_available     stn   wban  temp  count_temp  \\\n",
       "0  W 41 St & 8 Ave                   12  725030  14732  76.1          24   \n",
       "1  W 41 St & 8 Ave                   12  725030  14732  76.1          24   \n",
       "2  W 41 St & 8 Ave                   12  725030  14732  76.1          24   \n",
       "3  W 41 St & 8 Ave                   12  725030  14732  76.1          24   \n",
       "4  W 41 St & 8 Ave                   12  725030  14732  76.1          24   \n",
       "\n",
       "   prcp  is_foggy  is_raining  is_snowing  \n",
       "0   0.0         1           1           0  \n",
       "1   0.0         1           1           0  \n",
       "2   0.0         1           1           0  \n",
       "3   0.0         1           1           0  \n",
       "4   0.0         1           1           0  "
      ]
     },
     "execution_count": 250,
     "metadata": {},
     "output_type": "execute_result"
    }
   ],
   "source": [
    "all_df = pd.merge(trips_df,nearby_stations[['station_id','name','num_docks_available']],on='station_id')\n",
    "all_df = pd.merge(all_df,weather_df,on='date')\n",
    "all_df.head()"
   ]
  },
  {
   "cell_type": "code",
   "execution_count": 251,
   "metadata": {
    "ExecuteTime": {
     "end_time": "2017-10-12T06:43:56.384902Z",
     "start_time": "2017-10-12T02:43:56.308040-04:00"
    },
    "collapsed": true
   },
   "outputs": [],
   "source": [
    "all_df['flow'] = (all_df['incoming_bikes']  - all_df['departing_bikes'] ) / (all_df['num_docks_available'])\n",
    "all_df['day_of_week'] = all_df['date'].dt.dayofweek\n",
    "all_df['year'] = all_df['date'].dt.year\n",
    "all_df['month'] = all_df['date'].dt.month\n",
    "all_df['week'] = all_df['date'].dt.week"
   ]
  },
  {
   "cell_type": "code",
   "execution_count": 252,
   "metadata": {
    "ExecuteTime": {
     "end_time": "2017-10-12T06:43:56.419753Z",
     "start_time": "2017-10-12T02:43:56.387543-04:00"
    }
   },
   "outputs": [
    {
     "data": {
      "text/plain": [
       "array(['477', '529', '490', '523'], dtype=object)"
      ]
     },
     "execution_count": 252,
     "metadata": {},
     "output_type": "execute_result"
    }
   ],
   "source": [
    "all_df['station_id'].unique()"
   ]
  },
  {
   "cell_type": "markdown",
   "metadata": {},
   "source": []
  },
  {
   "cell_type": "markdown",
   "metadata": {},
   "source": [
    "# Exploration"
   ]
  },
  {
   "cell_type": "markdown",
   "metadata": {
    "ExecuteTime": {
     "end_time": "2017-10-11T23:08:41.968647Z",
     "start_time": "2017-10-11T19:08:41.965349-04:00"
    }
   },
   "source": [
    "** Station Incoming Bikes by hour **"
   ]
  },
  {
   "cell_type": "code",
   "execution_count": 258,
   "metadata": {
    "ExecuteTime": {
     "end_time": "2017-10-12T06:52:40.307439Z",
     "start_time": "2017-10-12T02:52:38.135998-04:00"
    }
   },
   "outputs": [
    {
     "data": {
      "text/plain": [
       "<seaborn.axisgrid.FacetGrid at 0x1637d8320>"
      ]
     },
     "execution_count": 258,
     "metadata": {},
     "output_type": "execute_result"
    },
    {
     "data": {
      "image/png": "[encoded data removed]",
      "text/plain": [
       "<matplotlib.figure.Figure at 0x150a62c50>"
      ]
     },
     "metadata": {},
     "output_type": "display_data"
    }
   ],
   "source": [
    "sns.lmplot('hour', # Horizontal axis\n",
    "           'incoming_bikes', # Vertical axis\n",
    "           data=all_df, # Data source\n",
    "           fit_reg=False, # Don't fix a regression line\n",
    "           col=\"name\", # Set color\n",
    "           scatter_kws={\"marker\": \"D\", # Set marker style\n",
    "                        \"s\": 100}) # S marker size"
   ]
  },
  {
   "cell_type": "markdown",
   "metadata": {},
   "source": [
    "** Station Outgoing Bikes by hour **"
   ]
  },
  {
   "cell_type": "code",
   "execution_count": 78,
   "metadata": {
    "ExecuteTime": {
     "end_time": "2017-10-11T23:13:41.569780Z",
     "start_time": "2017-10-11T19:13:39.458975-04:00"
    }
   },
   "outputs": [
    {
     "data": {
      "text/plain": [
       "<seaborn.axisgrid.FacetGrid at 0x1278e10b8>"
      ]
     },
     "execution_count": 78,
     "metadata": {},
     "output_type": "execute_result"
    },
    {
     "data": {
      "image/png": "[encoded data removed]",
      "text/plain": [
       "<matplotlib.figure.Figure at 0x128047160>"
      ]
     },
     "metadata": {},
     "output_type": "display_data"
    }
   ],
   "source": [
    "sns.lmplot('hour', # Horizontal axis\n",
    "           'departing_bikes', # Vertical axis\n",
    "           data=all_df, # Data source\n",
    "           fit_reg=False, # Don't fix a regression line\n",
    "           col=\"name\", # Set color\n",
    "           scatter_kws={\"marker\": \"D\", # Set marker style\n",
    "                        \"s\": 100}) # S marker size"
   ]
  },
  {
   "cell_type": "markdown",
   "metadata": {},
   "source": [
    "** Station Flow by hour **"
   ]
  },
  {
   "cell_type": "code",
   "execution_count": 256,
   "metadata": {
    "ExecuteTime": {
     "end_time": "2017-10-12T06:51:49.577743Z",
     "start_time": "2017-10-12T02:51:49.564568-04:00"
    },
    "collapsed": true
   },
   "outputs": [],
   "source": [
    "sns.set_style('darkgrid', {'legend.frameon':True})\n"
   ]
  },
  {
   "cell_type": "code",
   "execution_count": 257,
   "metadata": {
    "ExecuteTime": {
     "end_time": "2017-10-12T06:51:54.131722Z",
     "start_time": "2017-10-12T02:51:50.227954-04:00"
    }
   },
   "outputs": [
    {
     "data": {
      "text/plain": [
       "<seaborn.axisgrid.FacetGrid at 0x162c02a90>"
      ]
     },
     "execution_count": 257,
     "metadata": {},
     "output_type": "execute_result"
    },
    {
     "data": {
      "image/png": "[encoded data removed]",
      "text/plain": [
       "<matplotlib.figure.Figure at 0x162c02d68>"
      ]
     },
     "metadata": {},
     "output_type": "display_data"
    }
   ],
   "source": [
    "sns.lmplot('hour', # Horizontal axis\n",
    "           'flow', # Vertical axis\n",
    "           data=all_df, # Data source\n",
    "           fit_reg=False, # Don't fix a regression line\n",
    "           col=\"name\", # Set color\n",
    "           scatter_kws={\"marker\": \"D\", # Set marker style\n",
    "                        \"s\": 100}) # S marker size\n",
    "    \n"
   ]
  },
  {
   "cell_type": "markdown",
   "metadata": {
    "ExecuteTime": {
     "end_time": "2017-10-12T10:02:29.701413Z",
     "start_time": "2017-10-12T06:02:29.690798-04:00"
    }
   },
   "source": [
    "** Station Flow by day of week **"
   ]
  },
  {
   "cell_type": "code",
   "execution_count": 81,
   "metadata": {
    "ExecuteTime": {
     "end_time": "2017-10-11T23:14:28.596957Z",
     "start_time": "2017-10-11T19:14:26.543832-04:00"
    }
   },
   "outputs": [
    {
     "data": {
      "text/plain": [
       "<seaborn.axisgrid.FacetGrid at 0x128a76358>"
      ]
     },
     "execution_count": 81,
     "metadata": {},
     "output_type": "execute_result"
    },
    {
     "data": {
      "image/png": "[encoded data removed]",
      "text/plain": [
       "<matplotlib.figure.Figure at 0x126126cf8>"
      ]
     },
     "metadata": {},
     "output_type": "display_data"
    }
   ],
   "source": [
    "sns.lmplot('day_of_week', # Horizontal axis\n",
    "           'flow', # Vertical axis\n",
    "           data=all_df, # Data source\n",
    "           fit_reg=False, # Don't fix a regression line\n",
    "           col=\"name\", # Set color\n",
    "           scatter_kws={\"marker\": \"D\", # Set marker style\n",
    "                        \"s\": 100}) # S marker size"
   ]
  },
  {
   "cell_type": "markdown",
   "metadata": {},
   "source": [
    "Notes:\n",
    " Except for weekday vs weekend, doesn't look too useful   "
   ]
  },
  {
   "cell_type": "code",
   "execution_count": null,
   "metadata": {
    "collapsed": true
   },
   "outputs": [],
   "source": []
  },
  {
   "cell_type": "code",
   "execution_count": 83,
   "metadata": {
    "ExecuteTime": {
     "end_time": "2017-10-11T23:16:01.426224Z",
     "start_time": "2017-10-11T19:16:01.413799-04:00"
    },
    "collapsed": true
   },
   "outputs": [],
   "source": [
    "all_df=all_df[['year','month','week','day_of_week','hour','station_id','temp','prcp','is_foggy','is_raining','is_snowing','flow'\n",
    "              ,'num_docks_available'\n",
    "              ]]"
   ]
  },
  {
   "cell_type": "code",
   "execution_count": 84,
   "metadata": {
    "ExecuteTime": {
     "end_time": "2017-10-11T23:16:03.814851Z",
     "start_time": "2017-10-11T19:16:03.811319-04:00"
    }
   },
   "outputs": [
    {
     "data": {
      "text/plain": [
       "79189"
      ]
     },
     "execution_count": 84,
     "metadata": {},
     "output_type": "execute_result"
    }
   ],
   "source": [
    "len(all_df)"
   ]
  },
  {
   "cell_type": "code",
   "execution_count": 85,
   "metadata": {
    "ExecuteTime": {
     "end_time": "2017-10-11T23:16:04.341971Z",
     "start_time": "2017-10-11T19:16:04.326925-04:00"
    }
   },
   "outputs": [
    {
     "data": {
      "text/html": [
       "<div>\n",
       "<style>\n",
       "    .dataframe thead tr:only-child th {\n",
       "        text-align: right;\n",
       "    }\n",
       "\n",
       "    .dataframe thead th {\n",
       "        text-align: left;\n",
       "    }\n",
       "\n",
       "    .dataframe tbody tr th {\n",
       "        vertical-align: top;\n",
       "    }\n",
       "</style>\n",
       "<table border=\"1\" class=\"dataframe\">\n",
       "  <thead>\n",
       "    <tr style=\"text-align: right;\">\n",
       "      <th></th>\n",
       "      <th>year</th>\n",
       "      <th>month</th>\n",
       "      <th>week</th>\n",
       "      <th>day_of_week</th>\n",
       "      <th>hour</th>\n",
       "      <th>station_id</th>\n",
       "      <th>temp</th>\n",
       "      <th>prcp</th>\n",
       "      <th>is_foggy</th>\n",
       "      <th>is_raining</th>\n",
       "      <th>is_snowing</th>\n",
       "      <th>flow</th>\n",
       "      <th>num_docks_available</th>\n",
       "    </tr>\n",
       "  </thead>\n",
       "  <tbody>\n",
       "    <tr>\n",
       "      <th>0</th>\n",
       "      <td>2015</td>\n",
       "      <td>7</td>\n",
       "      <td>29</td>\n",
       "      <td>1</td>\n",
       "      <td>5</td>\n",
       "      <td>477</td>\n",
       "      <td>76.1</td>\n",
       "      <td>0.0</td>\n",
       "      <td>1</td>\n",
       "      <td>1</td>\n",
       "      <td>0</td>\n",
       "      <td>-1.833333</td>\n",
       "      <td>12</td>\n",
       "    </tr>\n",
       "    <tr>\n",
       "      <th>1</th>\n",
       "      <td>2015</td>\n",
       "      <td>7</td>\n",
       "      <td>29</td>\n",
       "      <td>1</td>\n",
       "      <td>6</td>\n",
       "      <td>477</td>\n",
       "      <td>76.1</td>\n",
       "      <td>0.0</td>\n",
       "      <td>1</td>\n",
       "      <td>1</td>\n",
       "      <td>0</td>\n",
       "      <td>-3.500000</td>\n",
       "      <td>12</td>\n",
       "    </tr>\n",
       "    <tr>\n",
       "      <th>2</th>\n",
       "      <td>2015</td>\n",
       "      <td>7</td>\n",
       "      <td>29</td>\n",
       "      <td>1</td>\n",
       "      <td>17</td>\n",
       "      <td>477</td>\n",
       "      <td>76.1</td>\n",
       "      <td>0.0</td>\n",
       "      <td>1</td>\n",
       "      <td>1</td>\n",
       "      <td>0</td>\n",
       "      <td>1.916667</td>\n",
       "      <td>12</td>\n",
       "    </tr>\n",
       "    <tr>\n",
       "      <th>3</th>\n",
       "      <td>2015</td>\n",
       "      <td>7</td>\n",
       "      <td>29</td>\n",
       "      <td>1</td>\n",
       "      <td>18</td>\n",
       "      <td>477</td>\n",
       "      <td>76.1</td>\n",
       "      <td>0.0</td>\n",
       "      <td>1</td>\n",
       "      <td>1</td>\n",
       "      <td>0</td>\n",
       "      <td>-0.583333</td>\n",
       "      <td>12</td>\n",
       "    </tr>\n",
       "    <tr>\n",
       "      <th>4</th>\n",
       "      <td>2015</td>\n",
       "      <td>7</td>\n",
       "      <td>29</td>\n",
       "      <td>1</td>\n",
       "      <td>19</td>\n",
       "      <td>477</td>\n",
       "      <td>76.1</td>\n",
       "      <td>0.0</td>\n",
       "      <td>1</td>\n",
       "      <td>1</td>\n",
       "      <td>0</td>\n",
       "      <td>-0.333333</td>\n",
       "      <td>12</td>\n",
       "    </tr>\n",
       "  </tbody>\n",
       "</table>\n",
       "</div>"
      ],
      "text/plain": [
       "   year  month  week  day_of_week  hour station_id  temp  prcp  is_foggy  \\\n",
       "0  2015      7    29            1     5        477  76.1   0.0         1   \n",
       "1  2015      7    29            1     6        477  76.1   0.0         1   \n",
       "2  2015      7    29            1    17        477  76.1   0.0         1   \n",
       "3  2015      7    29            1    18        477  76.1   0.0         1   \n",
       "4  2015      7    29            1    19        477  76.1   0.0         1   \n",
       "\n",
       "   is_raining  is_snowing      flow  num_docks_available  \n",
       "0           1           0 -1.833333                   12  \n",
       "1           1           0 -3.500000                   12  \n",
       "2           1           0  1.916667                   12  \n",
       "3           1           0 -0.583333                   12  \n",
       "4           1           0 -0.333333                   12  "
      ]
     },
     "execution_count": 85,
     "metadata": {},
     "output_type": "execute_result"
    }
   ],
   "source": [
    "all_df.head()"
   ]
  },
  {
   "cell_type": "markdown",
   "metadata": {
    "ExecuteTime": {
     "end_time": "2017-10-12T10:02:59.614980Z",
     "start_time": "2017-10-12T06:02:59.609131-04:00"
    }
   },
   "source": [
    "** Correlation **"
   ]
  },
  {
   "cell_type": "code",
   "execution_count": 87,
   "metadata": {
    "ExecuteTime": {
     "end_time": "2017-10-11T23:16:07.167812Z",
     "start_time": "2017-10-11T19:16:06.859216-04:00"
    }
   },
   "outputs": [
    {
     "data": {
      "text/plain": [
       "<matplotlib.axes._subplots.AxesSubplot at 0x12fd2aef0>"
      ]
     },
     "execution_count": 87,
     "metadata": {},
     "output_type": "execute_result"
    },
    {
     "data": {
      "image/png": "[encoded data removed]",
      "text/plain": [
       "<matplotlib.figure.Figure at 0x135062b38>"
      ]
     },
     "metadata": {},
     "output_type": "display_data"
    }
   ],
   "source": [
    "sns.heatmap(all_df.corr())"
   ]
  },
  {
   "cell_type": "markdown",
   "metadata": {},
   "source": [
    "Notes:    \n",
    "only hour has a correlation between flow"
   ]
  },
  {
   "cell_type": "code",
   "execution_count": null,
   "metadata": {
    "ExecuteTime": {
     "end_time": "2017-10-11T18:23:13.451246Z",
     "start_time": "2017-10-11T14:23:13.447155-04:00"
    },
    "collapsed": true
   },
   "outputs": [],
   "source": [
    "all_df.columns"
   ]
  },
  {
   "cell_type": "code",
   "execution_count": null,
   "metadata": {
    "collapsed": true
   },
   "outputs": [],
   "source": []
  },
  {
   "cell_type": "code",
   "execution_count": 88,
   "metadata": {
    "ExecuteTime": {
     "end_time": "2017-10-11T23:16:59.140143Z",
     "start_time": "2017-10-11T19:16:59.113358-04:00"
    },
    "collapsed": true
   },
   "outputs": [],
   "source": []
  },
  {
   "cell_type": "markdown",
   "metadata": {},
   "source": [
    "# Model exploration"
   ]
  },
  {
   "cell_type": "code",
   "execution_count": 92,
   "metadata": {
    "ExecuteTime": {
     "end_time": "2017-10-11T23:17:53.740791Z",
     "start_time": "2017-10-11T19:17:53.732107-04:00"
    },
    "collapsed": true
   },
   "outputs": [],
   "source": [
    "def train_test_rmse(df,features_cols,target_col):\n",
    "    X=df[features_cols]\n",
    "    y=df[target_col]\n",
    "    #X_train, X_test,y_train, y_test = train_test_split(X,y)\n",
    "    #clf = svm.SVR()\n",
    "    #clf = ElasticNet(random_state=0)\n",
    "    clf = LinearRegression()\n",
    "    #clf = RandomForestRegressor( random_state=0,)\n",
    "    \n",
    "    \n",
    "    \n",
    "    scores = cross_val_score(clf, X, y, cv=5,scoring='r2')\n",
    "    #print(clf.coef_) \n",
    "    #print(clf.feature_importances_)\n",
    "    return scores\n",
    "    #return np.sqrt(scores) \n",
    "\n",
    "    \n",
    "    #clf.fit(X_train,y_train)\n",
    "    #y_pred=clf.predict(X_test)\n",
    "    #return np.sqrt(metrics.mean_squared_error(y_test, y_pred))\n",
    "    #return scores"
   ]
  },
  {
   "cell_type": "code",
   "execution_count": 93,
   "metadata": {
    "ExecuteTime": {
     "end_time": "2017-10-11T23:17:54.054847Z",
     "start_time": "2017-10-11T19:17:54.039136-04:00"
    }
   },
   "outputs": [
    {
     "data": {
      "text/html": [
       "<div>\n",
       "<style>\n",
       "    .dataframe thead tr:only-child th {\n",
       "        text-align: right;\n",
       "    }\n",
       "\n",
       "    .dataframe thead th {\n",
       "        text-align: left;\n",
       "    }\n",
       "\n",
       "    .dataframe tbody tr th {\n",
       "        vertical-align: top;\n",
       "    }\n",
       "</style>\n",
       "<table border=\"1\" class=\"dataframe\">\n",
       "  <thead>\n",
       "    <tr style=\"text-align: right;\">\n",
       "      <th></th>\n",
       "      <th>year</th>\n",
       "      <th>month</th>\n",
       "      <th>week</th>\n",
       "      <th>day_of_week</th>\n",
       "      <th>hour</th>\n",
       "      <th>station_id</th>\n",
       "      <th>temp</th>\n",
       "      <th>prcp</th>\n",
       "      <th>is_foggy</th>\n",
       "      <th>is_raining</th>\n",
       "      <th>is_snowing</th>\n",
       "      <th>flow</th>\n",
       "      <th>num_docks_available</th>\n",
       "    </tr>\n",
       "  </thead>\n",
       "  <tbody>\n",
       "    <tr>\n",
       "      <th>0</th>\n",
       "      <td>2015</td>\n",
       "      <td>7</td>\n",
       "      <td>29</td>\n",
       "      <td>1</td>\n",
       "      <td>5</td>\n",
       "      <td>477</td>\n",
       "      <td>76.1</td>\n",
       "      <td>0.0</td>\n",
       "      <td>1</td>\n",
       "      <td>1</td>\n",
       "      <td>0</td>\n",
       "      <td>-1.833333</td>\n",
       "      <td>12</td>\n",
       "    </tr>\n",
       "    <tr>\n",
       "      <th>1</th>\n",
       "      <td>2015</td>\n",
       "      <td>7</td>\n",
       "      <td>29</td>\n",
       "      <td>1</td>\n",
       "      <td>6</td>\n",
       "      <td>477</td>\n",
       "      <td>76.1</td>\n",
       "      <td>0.0</td>\n",
       "      <td>1</td>\n",
       "      <td>1</td>\n",
       "      <td>0</td>\n",
       "      <td>-3.500000</td>\n",
       "      <td>12</td>\n",
       "    </tr>\n",
       "    <tr>\n",
       "      <th>2</th>\n",
       "      <td>2015</td>\n",
       "      <td>7</td>\n",
       "      <td>29</td>\n",
       "      <td>1</td>\n",
       "      <td>17</td>\n",
       "      <td>477</td>\n",
       "      <td>76.1</td>\n",
       "      <td>0.0</td>\n",
       "      <td>1</td>\n",
       "      <td>1</td>\n",
       "      <td>0</td>\n",
       "      <td>1.916667</td>\n",
       "      <td>12</td>\n",
       "    </tr>\n",
       "    <tr>\n",
       "      <th>3</th>\n",
       "      <td>2015</td>\n",
       "      <td>7</td>\n",
       "      <td>29</td>\n",
       "      <td>1</td>\n",
       "      <td>18</td>\n",
       "      <td>477</td>\n",
       "      <td>76.1</td>\n",
       "      <td>0.0</td>\n",
       "      <td>1</td>\n",
       "      <td>1</td>\n",
       "      <td>0</td>\n",
       "      <td>-0.583333</td>\n",
       "      <td>12</td>\n",
       "    </tr>\n",
       "    <tr>\n",
       "      <th>4</th>\n",
       "      <td>2015</td>\n",
       "      <td>7</td>\n",
       "      <td>29</td>\n",
       "      <td>1</td>\n",
       "      <td>19</td>\n",
       "      <td>477</td>\n",
       "      <td>76.1</td>\n",
       "      <td>0.0</td>\n",
       "      <td>1</td>\n",
       "      <td>1</td>\n",
       "      <td>0</td>\n",
       "      <td>-0.333333</td>\n",
       "      <td>12</td>\n",
       "    </tr>\n",
       "  </tbody>\n",
       "</table>\n",
       "</div>"
      ],
      "text/plain": [
       "   year  month  week  day_of_week  hour station_id  temp  prcp  is_foggy  \\\n",
       "0  2015      7    29            1     5        477  76.1   0.0         1   \n",
       "1  2015      7    29            1     6        477  76.1   0.0         1   \n",
       "2  2015      7    29            1    17        477  76.1   0.0         1   \n",
       "3  2015      7    29            1    18        477  76.1   0.0         1   \n",
       "4  2015      7    29            1    19        477  76.1   0.0         1   \n",
       "\n",
       "   is_raining  is_snowing      flow  num_docks_available  \n",
       "0           1           0 -1.833333                   12  \n",
       "1           1           0 -3.500000                   12  \n",
       "2           1           0  1.916667                   12  \n",
       "3           1           0 -0.583333                   12  \n",
       "4           1           0 -0.333333                   12  "
      ]
     },
     "execution_count": 93,
     "metadata": {},
     "output_type": "execute_result"
    }
   ],
   "source": [
    "all_df.head()"
   ]
  },
  {
   "cell_type": "code",
   "execution_count": null,
   "metadata": {
    "ExecuteTime": {
     "end_time": "2017-10-11T18:23:19.428648Z",
     "start_time": "2017-10-11T14:23:19.425984-04:00"
    },
    "collapsed": true
   },
   "outputs": [],
   "source": []
  },
  {
   "cell_type": "code",
   "execution_count": null,
   "metadata": {
    "ExecuteTime": {
     "end_time": "2017-10-11T18:23:22.980599Z",
     "start_time": "2017-10-11T14:23:22.977875-04:00"
    },
    "collapsed": true
   },
   "outputs": [],
   "source": []
  },
  {
   "cell_type": "code",
   "execution_count": null,
   "metadata": {
    "ExecuteTime": {
     "end_time": "2017-10-11T18:23:24.257955Z",
     "start_time": "2017-10-11T14:23:24.255312-04:00"
    },
    "collapsed": true
   },
   "outputs": [],
   "source": []
  },
  {
   "cell_type": "code",
   "execution_count": 226,
   "metadata": {
    "ExecuteTime": {
     "end_time": "2017-10-12T00:39:52.328882Z",
     "start_time": "2017-10-11T20:39:52.320422-04:00"
    },
    "collapsed": true
   },
   "outputs": [],
   "source": [
    "def get_text_cols(df):\n",
    "    return df[['year','month','hour', 'week','day_of_week','station_id','is_foggy','is_raining','is_snowing']]\n",
    "\n",
    "def get_numeric_cols(df):\n",
    "    return df[['temp','prcp']]\n",
    "\n"
   ]
  },
  {
   "cell_type": "code",
   "execution_count": 227,
   "metadata": {
    "ExecuteTime": {
     "end_time": "2017-10-12T00:39:52.816512Z",
     "start_time": "2017-10-11T20:39:52.808802-04:00"
    }
   },
   "outputs": [
    {
     "data": {
      "text/plain": [
       "Index(['year', 'month', 'week', 'day_of_week', 'hour', 'station_id', 'temp',\n",
       "       'prcp', 'is_foggy', 'is_raining', 'is_snowing', 'flow',\n",
       "       'num_docks_available'],\n",
       "      dtype='object')"
      ]
     },
     "execution_count": 227,
     "metadata": {},
     "output_type": "execute_result"
    }
   ],
   "source": [
    "all_df.columns"
   ]
  },
  {
   "cell_type": "code",
   "execution_count": 228,
   "metadata": {
    "ExecuteTime": {
     "end_time": "2017-10-12T00:39:53.467052Z",
     "start_time": "2017-10-11T20:39:53.464096-04:00"
    },
    "collapsed": true
   },
   "outputs": [],
   "source": [
    "features_cols = [ 'year','month', 'week', 'hour', 'station_id', 'temp', 'prcp', 'is_foggy',\n",
    "       'is_raining', 'is_snowing', 'num_docks_available']"
   ]
  },
  {
   "cell_type": "markdown",
   "metadata": {},
   "source": [
    "** ML Pipeline **      \n",
    "Hot encode all categorical features    \n",
    "Scale numeric features     \n",
    "Use Lasso to identify good features\n",
    "Build Linear Regression"
   ]
  },
  {
   "cell_type": "code",
   "execution_count": 229,
   "metadata": {
    "ExecuteTime": {
     "end_time": "2017-10-12T00:39:54.026002Z",
     "start_time": "2017-10-11T20:39:54.016329-04:00"
    },
    "collapsed": true
   },
   "outputs": [],
   "source": [
    "cat_cols = ['year','month','hour', 'week','station_id','is_foggy','is_raining','is_snowing']\n",
    "#cat_cols = ['hour', 'week','station_id']\n",
    "category_pipeline =   make_pipeline (ce.OneHotEncoder(cols =cat_cols ))\n",
    "numerical_pipleine = make_pipeline(FunctionTransformer(get_numeric_cols, validate=False), \n",
    "                                MinMaxScaler())\n",
    "features_pipeline = FeatureUnion([('categorical', category_pipeline), ('numerical', numerical_pipleine)])\n",
    "\n",
    "ml_pipeline = Pipeline([('features', features_pipeline)\n",
    "         ,('best_features',SelectFromModel(LassoCV()))\n",
    "        , ('clf', LinearRegression()  )        \n",
    "         \n",
    "         ] )"
   ]
  },
  {
   "cell_type": "markdown",
   "metadata": {
    "ExecuteTime": {
     "end_time": "2017-10-12T00:12:37.039852Z",
     "start_time": "2017-10-11T20:12:37.027041-04:00"
    },
    "collapsed": true
   },
   "source": [
    "## Best Features"
   ]
  },
  {
   "cell_type": "code",
   "execution_count": 230,
   "metadata": {
    "ExecuteTime": {
     "end_time": "2017-10-12T00:39:58.245981Z",
     "start_time": "2017-10-11T20:39:55.511857-04:00"
    }
   },
   "outputs": [
    {
     "data": {
      "text/plain": [
       "Pipeline(steps=[('features', FeatureUnion(n_jobs=1,\n",
       "       transformer_list=[('categorical', Pipeline(steps=[('onehotencoder', OneHotEncoder(cols=['year', 'month', 'hour', 'week', 'station_id', 'is_foggy', 'is_raining', 'is_snowing'],\n",
       "       drop_invariant=False, handle_unknown='impute', impute_missing=True,...shold=None)), ('clf', LinearRegression(copy_X=True, fit_intercept=True, n_jobs=1, normalize=False))])"
      ]
     },
     "execution_count": 230,
     "metadata": {},
     "output_type": "execute_result"
    }
   ],
   "source": [
    "X_train, X_test, y_train, y_test = train_test_split(\n",
    "...     all_df[features_cols], all_df['flow'], random_state=0)\n",
    "\n",
    "ml_pipeline.fit(X_train,y_train)\n"
   ]
  },
  {
   "cell_type": "code",
   "execution_count": 231,
   "metadata": {
    "ExecuteTime": {
     "end_time": "2017-10-12T00:39:58.957711Z",
     "start_time": "2017-10-11T20:39:58.248302-04:00"
    }
   },
   "outputs": [
    {
     "data": {
      "text/html": [
       "<div>\n",
       "<style>\n",
       "    .dataframe thead tr:only-child th {\n",
       "        text-align: right;\n",
       "    }\n",
       "\n",
       "    .dataframe thead th {\n",
       "        text-align: left;\n",
       "    }\n",
       "\n",
       "    .dataframe tbody tr th {\n",
       "        vertical-align: top;\n",
       "    }\n",
       "</style>\n",
       "<table border=\"1\" class=\"dataframe\">\n",
       "  <thead>\n",
       "    <tr style=\"text-align: right;\">\n",
       "      <th></th>\n",
       "      <th>coef</th>\n",
       "      <th>features</th>\n",
       "      <th>support</th>\n",
       "      <th>magnitude</th>\n",
       "    </tr>\n",
       "  </thead>\n",
       "  <tbody>\n",
       "    <tr>\n",
       "      <th>30</th>\n",
       "      <td>-0.791189</td>\n",
       "      <td>hour_13</td>\n",
       "      <td>True</td>\n",
       "      <td>0.791189</td>\n",
       "    </tr>\n",
       "    <tr>\n",
       "      <th>31</th>\n",
       "      <td>0.602192</td>\n",
       "      <td>hour_14</td>\n",
       "      <td>True</td>\n",
       "      <td>0.602192</td>\n",
       "    </tr>\n",
       "    <tr>\n",
       "      <th>18</th>\n",
       "      <td>0.456551</td>\n",
       "      <td>hour_1</td>\n",
       "      <td>True</td>\n",
       "      <td>0.456551</td>\n",
       "    </tr>\n",
       "    <tr>\n",
       "      <th>37</th>\n",
       "      <td>-0.427334</td>\n",
       "      <td>hour_20</td>\n",
       "      <td>True</td>\n",
       "      <td>0.427334</td>\n",
       "    </tr>\n",
       "    <tr>\n",
       "      <th>20</th>\n",
       "      <td>0.371778</td>\n",
       "      <td>hour_3</td>\n",
       "      <td>True</td>\n",
       "      <td>0.371778</td>\n",
       "    </tr>\n",
       "    <tr>\n",
       "      <th>35</th>\n",
       "      <td>-0.296585</td>\n",
       "      <td>hour_18</td>\n",
       "      <td>True</td>\n",
       "      <td>0.296585</td>\n",
       "    </tr>\n",
       "    <tr>\n",
       "      <th>21</th>\n",
       "      <td>0.272211</td>\n",
       "      <td>hour_4</td>\n",
       "      <td>True</td>\n",
       "      <td>0.272211</td>\n",
       "    </tr>\n",
       "    <tr>\n",
       "      <th>32</th>\n",
       "      <td>-0.200777</td>\n",
       "      <td>hour_15</td>\n",
       "      <td>True</td>\n",
       "      <td>0.200777</td>\n",
       "    </tr>\n",
       "    <tr>\n",
       "      <th>26</th>\n",
       "      <td>-0.113800</td>\n",
       "      <td>hour_9</td>\n",
       "      <td>True</td>\n",
       "      <td>0.113800</td>\n",
       "    </tr>\n",
       "    <tr>\n",
       "      <th>33</th>\n",
       "      <td>0.071663</td>\n",
       "      <td>hour_16</td>\n",
       "      <td>True</td>\n",
       "      <td>0.071663</td>\n",
       "    </tr>\n",
       "    <tr>\n",
       "      <th>97</th>\n",
       "      <td>-0.065167</td>\n",
       "      <td>station_id_1</td>\n",
       "      <td>True</td>\n",
       "      <td>0.065167</td>\n",
       "    </tr>\n",
       "    <tr>\n",
       "      <th>28</th>\n",
       "      <td>0.035133</td>\n",
       "      <td>hour_11</td>\n",
       "      <td>True</td>\n",
       "      <td>0.035133</td>\n",
       "    </tr>\n",
       "    <tr>\n",
       "      <th>96</th>\n",
       "      <td>0.032317</td>\n",
       "      <td>station_id_0</td>\n",
       "      <td>True</td>\n",
       "      <td>0.032317</td>\n",
       "    </tr>\n",
       "    <tr>\n",
       "      <th>2</th>\n",
       "      <td>0.030965</td>\n",
       "      <td>year_2</td>\n",
       "      <td>True</td>\n",
       "      <td>0.030965</td>\n",
       "    </tr>\n",
       "    <tr>\n",
       "      <th>22</th>\n",
       "      <td>-0.028564</td>\n",
       "      <td>hour_5</td>\n",
       "      <td>True</td>\n",
       "      <td>0.028564</td>\n",
       "    </tr>\n",
       "    <tr>\n",
       "      <th>39</th>\n",
       "      <td>-0.025895</td>\n",
       "      <td>hour_22</td>\n",
       "      <td>True</td>\n",
       "      <td>0.025895</td>\n",
       "    </tr>\n",
       "    <tr>\n",
       "      <th>24</th>\n",
       "      <td>-0.016933</td>\n",
       "      <td>hour_7</td>\n",
       "      <td>True</td>\n",
       "      <td>0.016933</td>\n",
       "    </tr>\n",
       "    <tr>\n",
       "      <th>34</th>\n",
       "      <td>0.016571</td>\n",
       "      <td>hour_17</td>\n",
       "      <td>True</td>\n",
       "      <td>0.016571</td>\n",
       "    </tr>\n",
       "    <tr>\n",
       "      <th>19</th>\n",
       "      <td>-0.015948</td>\n",
       "      <td>hour_2</td>\n",
       "      <td>True</td>\n",
       "      <td>0.015948</td>\n",
       "    </tr>\n",
       "    <tr>\n",
       "      <th>23</th>\n",
       "      <td>-0.015825</td>\n",
       "      <td>hour_6</td>\n",
       "      <td>True</td>\n",
       "      <td>0.015825</td>\n",
       "    </tr>\n",
       "  </tbody>\n",
       "</table>\n",
       "</div>"
      ],
      "text/plain": [
       "        coef      features  support  magnitude\n",
       "30 -0.791189       hour_13     True   0.791189\n",
       "31  0.602192       hour_14     True   0.602192\n",
       "18  0.456551        hour_1     True   0.456551\n",
       "37 -0.427334       hour_20     True   0.427334\n",
       "20  0.371778        hour_3     True   0.371778\n",
       "35 -0.296585       hour_18     True   0.296585\n",
       "21  0.272211        hour_4     True   0.272211\n",
       "32 -0.200777       hour_15     True   0.200777\n",
       "26 -0.113800        hour_9     True   0.113800\n",
       "33  0.071663       hour_16     True   0.071663\n",
       "97 -0.065167  station_id_1     True   0.065167\n",
       "28  0.035133       hour_11     True   0.035133\n",
       "96  0.032317  station_id_0     True   0.032317\n",
       "2   0.030965        year_2     True   0.030965\n",
       "22 -0.028564        hour_5     True   0.028564\n",
       "39 -0.025895       hour_22     True   0.025895\n",
       "24 -0.016933        hour_7     True   0.016933\n",
       "34  0.016571       hour_17     True   0.016571\n",
       "19 -0.015948        hour_2     True   0.015948\n",
       "23 -0.015825        hour_6     True   0.015825"
      ]
     },
     "execution_count": 231,
     "metadata": {},
     "output_type": "execute_result"
    }
   ],
   "source": [
    "transformed_cols  = list(category_pipeline.transform(X_train).columns) + list(get_numeric_cols(X_train).columns)\n",
    "\n",
    "feature_importances = pd.DataFrame({'features':transformed_cols\n",
    "                                    ,'support': ml_pipeline.named_steps['best_features'].get_support()\n",
    "                                    ,'coef': ml_pipeline.named_steps['best_features'].estimator_.coef_\n",
    "                                   })\n",
    "feature_importances['magnitude'] = feature_importances['coef'].apply(abs)\n",
    "feature_importances =feature_importances.sort_values(['support','magnitude'],ascending=False)\n",
    "feature_importances.head(20)"
   ]
  },
  {
   "cell_type": "code",
   "execution_count": 266,
   "metadata": {
    "ExecuteTime": {
     "end_time": "2017-10-12T07:14:11.043822Z",
     "start_time": "2017-10-12T03:14:10.861850-04:00"
    }
   },
   "outputs": [
    {
     "data": {
      "text/plain": [
       "<matplotlib.text.Text at 0x135f92a90>"
      ]
     },
     "execution_count": 266,
     "metadata": {},
     "output_type": "execute_result"
    },
    {
     "data": {
      "image/png": "[encoded data removed]",
      "text/plain": [
       "<matplotlib.figure.Figure at 0x1307e74e0>"
      ]
     },
     "metadata": {},
     "output_type": "display_data"
    }
   ],
   "source": [
    "t_df = feature_importances\n",
    "sns.barplot(x=\"features\", y=\"coef\", data=feature_importances.head(5))\n",
    "plt.xlabel('feature')\n",
    "plt.ylabel('coeficient')\n",
    "plt.title('Feature Importance')"
   ]
  },
  {
   "cell_type": "markdown",
   "metadata": {},
   "source": [
    "**Notes** :\n",
    "Only hour is the best feature :(    \n",
    "1pm and 8pm sees a negative flow (people are leaving)"
   ]
  },
  {
   "cell_type": "code",
   "execution_count": null,
   "metadata": {
    "collapsed": true
   },
   "outputs": [],
   "source": []
  },
  {
   "cell_type": "code",
   "execution_count": 232,
   "metadata": {
    "ExecuteTime": {
     "end_time": "2017-10-12T00:40:15.287749Z",
     "start_time": "2017-10-11T20:40:03.471803-04:00"
    }
   },
   "outputs": [
    {
     "data": {
      "text/plain": [
       "array([ 0.19843788,  0.21287809,  0.20030677,  0.21509816,  0.20351816])"
      ]
     },
     "execution_count": 232,
     "metadata": {},
     "output_type": "execute_result"
    }
   ],
   "source": [
    "scores = cross_val_score(ml_pipeline, X_train, y_train, cv=5,scoring='r2')\n",
    "scores"
   ]
  },
  {
   "cell_type": "code",
   "execution_count": null,
   "metadata": {
    "collapsed": true
   },
   "outputs": [],
   "source": []
  },
  {
   "cell_type": "code",
   "execution_count": 282,
   "metadata": {
    "ExecuteTime": {
     "end_time": "2017-10-12T07:32:31.393880Z",
     "start_time": "2017-10-12T03:32:26.543520-04:00"
    }
   },
   "outputs": [
    {
     "data": {
      "text/plain": [
       "<matplotlib.axes._subplots.AxesSubplot at 0x162fd30f0>"
      ]
     },
     "execution_count": 282,
     "metadata": {},
     "output_type": "execute_result"
    },
    {
     "data": {
      "image/png": "[encoded data removed]",
      "text/plain": [
       "<matplotlib.figure.Figure at 0x1638276d8>"
      ]
     },
     "metadata": {},
     "output_type": "display_data"
    }
   ],
   "source": [
    "test_predictions = pd.DataFrame({'actual':y_test , 'predicted':ml_pipeline.predict(X_test) , 'station_id':X_test['station_id']})\n",
    "sns_plot=sns.regplot(x =ml_pipeline.predict(X_train) , y = y_train )\n",
    "plt.title(\"Residuals\")\n",
    "plt.xlabel('predicted')\n",
    "plt.ylabel('actual')\n",
    "sns_plot.figure.savefig(\"residuals.png\")\n",
    "sns_plot"
   ]
  },
  {
   "cell_type": "code",
   "execution_count": 281,
   "metadata": {
    "ExecuteTime": {
     "end_time": "2017-10-12T07:31:00.523376Z",
     "start_time": "2017-10-12T03:30:59.532938-04:00"
    }
   },
   "outputs": [
    {
     "data": {
      "text/plain": [
       "<seaborn.axisgrid.FacetGrid at 0x15197fcf8>"
      ]
     },
     "execution_count": 281,
     "metadata": {},
     "output_type": "execute_result"
    },
    {
     "data": {
      "image/png": "[encoded data removed]",
      "text/plain": [
       "<matplotlib.figure.Figure at 0x15197f0f0>"
      ]
     },
     "metadata": {},
     "output_type": "display_data"
    }
   ],
   "source": [
    "sns.lmplot(x=\"actual\", y=\"predicted\", col=\"name\", hue=\"name\", data=pd.merge(test_predictions,nearby_stations,on='station_id'),\n",
    "           col_wrap=2, ci=None, palette=\"muted\", size=4,\n",
    "           scatter_kws={\"s\": 50, \"alpha\": 1})"
   ]
  },
  {
   "cell_type": "code",
   "execution_count": null,
   "metadata": {
    "collapsed": true
   },
   "outputs": [],
   "source": []
  },
  {
   "cell_type": "markdown",
   "metadata": {},
   "source": [
    "# Much Simpler Model    \n",
    "Train a model without weather "
   ]
  },
  {
   "cell_type": "code",
   "execution_count": 244,
   "metadata": {
    "ExecuteTime": {
     "end_time": "2017-10-12T00:42:12.394124Z",
     "start_time": "2017-10-11T20:42:12.310960-04:00"
    },
    "collapsed": true
   },
   "outputs": [],
   "source": [
    "features_cols = ['year','month','hour', 'week','day_of_week','station_id'] # date , stationid\n",
    "X_train, X_test, y_train, y_test = train_test_split(\n",
    "    all_df[features_cols], all_df['flow'], random_state=0)\n",
    "\n",
    "cat_cols = features_cols\n",
    "category_pipeline =   make_pipeline (ce.OneHotEncoder(cols =cat_cols ))\n",
    "\n",
    "\n",
    "ml_pipeline = Pipeline([('features', category_pipeline)\n",
    "         ,('best_features',SelectFromModel(LassoCV()))\n",
    "        , ('clf', LinearRegression()  )   \n",
    "         \n",
    "         ] )"
   ]
  },
  {
   "cell_type": "code",
   "execution_count": 245,
   "metadata": {
    "ExecuteTime": {
     "end_time": "2017-10-12T00:42:25.778042Z",
     "start_time": "2017-10-11T20:42:12.806979-04:00"
    }
   },
   "outputs": [
    {
     "data": {
      "text/plain": [
       "array([ 0.19928383,  0.2134189 ,  0.20090374,  0.21570498,  0.20381459])"
      ]
     },
     "execution_count": 245,
     "metadata": {},
     "output_type": "execute_result"
    }
   ],
   "source": [
    "ml_pipeline.fit(X_train,y_train)\n",
    "cross_val_score(ml_pipeline, X_train, y_train, cv=5,scoring='r2')\n"
   ]
  },
  {
   "cell_type": "code",
   "execution_count": 247,
   "metadata": {
    "ExecuteTime": {
     "end_time": "2017-10-12T00:42:51.307437Z",
     "start_time": "2017-10-11T20:42:51.304243-04:00"
    },
    "collapsed": true
   },
   "outputs": [],
   "source": [
    "s ={'year':2016 , 'month':4,'week':15,'hour':22 ,'station_id':490 ,'day_of_week':5 }\n",
    "#s = X_test.head(1).to_dict(orient='records')"
   ]
  },
  {
   "cell_type": "code",
   "execution_count": 248,
   "metadata": {
    "ExecuteTime": {
     "end_time": "2017-10-12T00:42:52.208088Z",
     "start_time": "2017-10-11T20:42:52.038383-04:00"
    }
   },
   "outputs": [
    {
     "data": {
      "text/plain": [
       "array([ 0.01064987])"
      ]
     },
     "execution_count": 248,
     "metadata": {},
     "output_type": "execute_result"
    }
   ],
   "source": [
    "ml_pipeline.predict(pd.DataFrame.from_dict(s)[features_cols])"
   ]
  },
  {
   "cell_type": "code",
   "execution_count": null,
   "metadata": {
    "collapsed": true
   },
   "outputs": [],
   "source": []
  },
  {
   "cell_type": "code",
   "execution_count": null,
   "metadata": {
    "collapsed": true
   },
   "outputs": [],
   "source": []
  },
  {
   "cell_type": "code",
   "execution_count": null,
   "metadata": {
    "collapsed": true
   },
   "outputs": [],
   "source": []
  },
  {
   "cell_type": "markdown",
   "metadata": {
    "ExecuteTime": {
     "end_time": "2017-10-12T00:40:55.403615Z",
     "start_time": "2017-10-11T20:40:55.401351-04:00"
    },
    "collapsed": true
   },
   "source": [
    "# Save model\n"
   ]
  },
  {
   "cell_type": "code",
   "execution_count": 241,
   "metadata": {
    "ExecuteTime": {
     "end_time": "2017-10-12T00:40:57.255597Z",
     "start_time": "2017-10-11T20:40:57.252429-04:00"
    },
    "collapsed": true
   },
   "outputs": [],
   "source": [
    "from sklearn.externals import joblib"
   ]
  },
  {
   "cell_type": "code",
   "execution_count": 242,
   "metadata": {
    "ExecuteTime": {
     "end_time": "2017-10-12T00:40:59.874663Z",
     "start_time": "2017-10-11T20:40:59.736176-04:00"
    }
   },
   "outputs": [
    {
     "name": "stdout",
     "output_type": "stream",
     "text": [
      "/Users/nidhin/Desktop/Data/2017/ableto/citibike/my_code\r\n"
     ]
    }
   ],
   "source": [
    "!pwd"
   ]
  },
  {
   "cell_type": "code",
   "execution_count": 243,
   "metadata": {
    "ExecuteTime": {
     "end_time": "2017-10-12T00:41:00.038745Z",
     "start_time": "2017-10-11T20:41:00.022985-04:00"
    }
   },
   "outputs": [
    {
     "data": {
      "text/plain": [
       "['../gcp/data/cols.pkl']"
      ]
     },
     "execution_count": 243,
     "metadata": {},
     "output_type": "execute_result"
    }
   ],
   "source": [
    "joblib.dump(ml_pipeline,'../gcp/data/model.pkl')\n",
    "joblib.dump(features_cols,'../gcp/data/cols.pkl')"
   ]
  },
  {
   "cell_type": "code",
   "execution_count": null,
   "metadata": {
    "collapsed": true
   },
   "outputs": [],
   "source": []
  }
 ],
 "metadata": {
  "kernelspec": {
   "display_name": "Python [conda env:py36]",
   "language": "python",
   "name": "conda-env-py36-py"
  },
  "language_info": {
   "codemirror_mode": {
    "name": "ipython",
    "version": 3
   },
   "file_extension": ".py",
   "mimetype": "text/x-python",
   "name": "python",
   "nbconvert_exporter": "python",
   "pygments_lexer": "ipython3",
   "version": "3.6.1"
  }
 },
 "nbformat": 4,
 "nbformat_minor": 2
}
